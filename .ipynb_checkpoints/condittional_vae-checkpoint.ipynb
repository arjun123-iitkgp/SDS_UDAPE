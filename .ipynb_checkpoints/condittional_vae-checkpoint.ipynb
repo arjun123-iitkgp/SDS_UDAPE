{
 "cells": [
  {
   "cell_type": "code",
   "execution_count": 5,
   "metadata": {},
   "outputs": [],
   "source": [
    "###ENCODE TOGETHER\n",
    "\n",
    "import torch\n",
    "import torch.nn as nn\n",
    "import torch.optim as optim\n",
    "from torch.autograd import Variable\n",
    "\n",
    "# Define the CVAE architecture\n",
    "class CVAE(nn.Module):\n",
    "    def __init__(self, input_dim, latent_dim, conditional_dim):\n",
    "        super(CVAE, self).__init__()\n",
    "\n",
    "        # Encoder layers\n",
    "        self.encoder = nn.Sequential(\n",
    "            nn.Linear(input_dim + conditional_dim, 256),\n",
    "            nn.ReLU(),\n",
    "            nn.Linear(256, 128),\n",
    "            nn.ReLU(),\n",
    "            nn.Linear(128, latent_dim * 2)  # Two outputs for mean and log variance\n",
    "        )\n",
    "\n",
    "        # Decoder layers\n",
    "        self.decoder = nn.Sequential(\n",
    "            nn.Linear(latent_dim + conditional_dim, 128),\n",
    "            nn.ReLU(),\n",
    "            nn.Linear(128, 256),\n",
    "            nn.ReLU(),\n",
    "            nn.Linear(256, input_dim),\n",
    "        )\n",
    "\n",
    "    def encode(self, x):\n",
    "        mu_logvar = self.encoder(x)\n",
    "        mu = mu_logvar[:, :latent_dim]\n",
    "        logvar = mu_logvar[:, latent_dim:]\n",
    "        return mu, logvar\n",
    "\n",
    "    def reparameterize(self, mu, logvar):\n",
    "        std = torch.exp(0.5 * logvar)\n",
    "        eps = torch.randn_like(std)\n",
    "        return mu + eps * std\n",
    "\n",
    "    def decode(self, z, c):\n",
    "        z_c = torch.cat([z, c], dim=1)\n",
    "        return self.decoder(z_c)\n",
    "\n",
    "    def forward(self, x, c):\n",
    "        c = c.unsqueeze(0).repeat(x.size(0), 1)  # Repeat c for each sample\n",
    "        x_c = torch.cat([x, c], dim=1)\n",
    "        \n",
    "        mu, logvar = self.encode(x_c)\n",
    "        z = self.reparameterize(mu, logvar)\n",
    "        x_recon = self.decode(z, c)\n",
    "        return x_recon, mu, logvar\n",
    "\n",
    "# Instantiate the CVAE\n",
    "input_dim = 32\n",
    "latent_dim = 16\n",
    "conditional_dim = 5\n",
    "cvae = CVAE(input_dim, latent_dim, conditional_dim)\n",
    "\n",
    "# Define loss function and optimizer\n",
    "criterion = nn.BCELoss(reduction='sum')  # Binary cross-entropy loss\n",
    "optimizer = optim.Adam(cvae.parameters(), lr=0.001)\n",
    "\n",
    "# Generate example data\n",
    "num_samples = 1000\n",
    "input_data = torch.rand(num_samples, input_dim)\n",
    "conditional_data = torch.rand(num_samples, conditional_dim)\n",
    "\n",
    "# # Training loop\n",
    "# num_epochs = 50\n",
    "# for epoch in range(num_epochs):\n",
    "#     optimizer.zero_grad()\n",
    "\n",
    "#     # Forward pass\n",
    "#     x_recon, mu, logvar = cvae(input_data, conditional_data)\n",
    "\n",
    "#     # Calculate reconstruction loss and KL divergence\n",
    "#     recon_loss = criterion(x_recon, input_data)\n",
    "#     kl_divergence = -0.5 * torch.sum(1 + logvar - mu.pow(2) - logvar.exp())\n",
    "\n",
    "#     # Total loss\n",
    "#     loss = recon_loss + kl_divergence\n",
    "\n",
    "#     # Backpropagation and optimization\n",
    "#     loss.backward()\n",
    "#     optimizer.step()\n",
    "\n",
    "# ... (further code for anomaly detection based on reconstruction loss)\n"
   ]
  },
  {
   "cell_type": "code",
   "execution_count": 6,
   "metadata": {},
   "outputs": [],
   "source": [
    "#ASSUMING ONE CONTRIBUTES TO MEAN AND ONE TO VARIANCE\n",
    "\n",
    "import torch\n",
    "import torch.nn as nn\n",
    "import torch.optim as optim\n",
    "from torch.autograd import Variable\n",
    "\n",
    "# Define the CVAE architecture\n",
    "class CVAE(nn.Module):\n",
    "    def __init__(self, input_dim, latent_dim, conditional_dim):\n",
    "        super(CVAE, self).__init__()\n",
    "\n",
    "        # Encoder layers for main input\n",
    "        self.encoder = nn.Sequential(\n",
    "           nn.Linear(input_dim, 512),\n",
    "            nn.ReLU(),\n",
    "            nn.Linear(512,256),\n",
    "            nn.ReLU(),\n",
    "            nn.Linear(256,128),\n",
    "            nn.ReLU(),\n",
    "            nn.Linear(128,64),\n",
    "            nn.ReLU(),\n",
    "        )\n",
    "        \n",
    "        # Encoder layers for conditional input\n",
    "        self.conditional_encoder = nn.Sequential(\n",
    "            nn.Linear(conditional_dim, 64),\n",
    "            nn.ReLU(),\n",
    "            nn.Linear(64, 32),\n",
    "            nn.ReLU()\n",
    "        )\n",
    "        \n",
    "        # Decoder layers\n",
    "        self.decoder = nn.Sequential(\n",
    "            nn.Linear(latent_dim, 64),\n",
    "            nn.ReLU(),\n",
    "            nn.Linear(64, 128),\n",
    "            nn.ReLU(),\n",
    "            nn.Linear(128, 256),\n",
    "            nn.ReLU(),\n",
    "            nn.Linear(256,512),\n",
    "            nn.ReLU(),\n",
    "            nn.Linear(512, input_dim)\n",
    "        )\n",
    "\n",
    "    def encode(self, x, c):\n",
    "        x = self.encoder(x)\n",
    "        c = self.conditional_encoder(c)\n",
    "        \n",
    "        return x, c\n",
    "\n",
    "    def reparameterize(self, mu, logvar):\n",
    "        std = torch.exp(0.5 * logvar)\n",
    "        eps = torch.randn_like(std)\n",
    "        return mu + eps * std\n",
    "\n",
    "    def decode(self, z, c):\n",
    "        z_c = torch.cat([z, c], dim=1)\n",
    "        return self.decoder(z_c)\n",
    "\n",
    "    def forward(self, x, c):\n",
    "        x, c = self.encode(x, c)\n",
    "        \n",
    "        mu, logvar = x, c  # For simplicity, assume output of encoders as mean and logvar\n",
    "        z = self.reparameterize(mu, logvar)\n",
    "        x_recon = self.decode(z, c)\n",
    "        return x_recon, mu, logvar\n",
    "\n",
    "# Instantiate the CVAE\n",
    "input_dim = 32\n",
    "latent_dim = 256\n",
    "lr = 1e-4\n",
    "batch_size = 32\n",
    "epochs = 25\n",
    "\n",
    "# Create the VAE model\n",
    "vae = VAE(input_dim, latent_dim)\n",
    "\n",
    "# Define loss function\n",
    "def loss_function(reconstructed_x, x, mu, logvar):\n",
    "    reconstruction_loss = nn.functional.mse_loss(reconstructed_x, x, reduction='sum')\n",
    "    KLD = -0.5 * torch.sum(1 + logvar - mu.pow(2) - logvar.exp())\n",
    "    return reconstruction_loss + KLD\n",
    "\n",
    "# Create optimizer\n",
    "optimizer = optim.Adam(vae.parameters(), lr=lr)\n",
    "\n",
    "# # Training loop\n",
    "# num_epochs = 50\n",
    "# for epoch in range(num_epochs):\n",
    "#     optimizer.zero_grad()\n",
    "\n",
    "#     # Forward pass\n",
    "#     x_recon, mu, logvar = cvae(input_data, conditional_data)\n",
    "\n",
    "#     # Calculate reconstruction loss and KL divergence\n",
    "#     recon_loss = criterion(x_recon, input_data)\n",
    "#     kl_divergence = -0.5 * torch.sum(1 + logvar - mu.pow(2) - logvar.exp())\n",
    "\n",
    "#     # Total loss\n",
    "#     loss = recon_loss + kl_divergence\n",
    "\n",
    "#     # Backpropagation and optimization\n",
    "#     loss.backward()\n",
    "#     optimizer.step()\n",
    "\n",
    "# ... (further code for anomaly detection based on reconstruction loss)\n"
   ]
  },
  {
   "cell_type": "code",
   "execution_count": null,
   "metadata": {},
   "outputs": [],
   "source": [
    "##BASIC VAE\n",
    "import torch\n",
    "import torch.nn as nn\n",
    "import torch.optim as optim\n",
    "\n",
    "class Encoder(nn.Module):\n",
    "    def __init__(self, input_dim, latent_dim):\n",
    "        super(Encoder, self).__init__()\n",
    "\n",
    "        self.encoder = nn.Sequential(\n",
    "            nn.Linear(input_dim, 512),\n",
    "            nn.ReLU(),\n",
    "            nn.Linear(512,256),\n",
    "            nn.ReLU(),\n",
    "            nn.Linear(256,128),\n",
    "            nn.ReLU(),\n",
    "            nn.Linear(128,64),\n",
    "            nn.ReLU(),\n",
    "        )\n",
    "        \n",
    "        self.conditional_encoder = nn.Sequential(\n",
    "            nn.Linear(conditional_dim, 64),\n",
    "            nn.ReLU(),\n",
    "            nn.Linear(64, 32),\n",
    "            nn.ReLU()\n",
    "\n",
    "        self.fc_mu = nn.Linear(64, latent_dim)\n",
    "        self.fc_logvar = nn.Linear(64, latent_dim)\n",
    "\n",
    "    def forward(self, x):\n",
    "        x = self.encoder(x)\n",
    "        c = self_conditional_encoder(c)\n",
    "        mu = self.fc_mu(x)\n",
    "        logvar = self.fc_logvar(x)\n",
    "        return mu, logvar\n",
    "\n",
    "class Decoder(nn.Module):\n",
    "    def __init__(self, latent_dim, input_dim):\n",
    "        super(Decoder, self).__init__()\n",
    "\n",
    "        self.decoder = nn.Sequential(\n",
    "            nn.Linear(latent_dim, 64),\n",
    "            nn.ReLU(),\n",
    "            nn.Linear(64, 128),\n",
    "            nn.ReLU(),\n",
    "            nn.Linear(128, 256),\n",
    "            nn.ReLU(),\n",
    "            nn.Linear(256,512),\n",
    "            nn.ReLU(),\n",
    "            nn.Linear(512, input_dim),\n",
    "        )\n",
    "\n",
    "    def forward(self, x):\n",
    "        x = self.decoder(x)\n",
    "        return x\n",
    "\n",
    "class VAE(nn.Module):\n",
    "    def __init__(self, input_dim, latent_dim):\n",
    "        super(VAE, self).__init__()\n",
    "\n",
    "        self.encoder = Encoder(input_dim, latent_dim)\n",
    "        self.decoder = Decoder(latent_dim, input_dim)\n",
    "\n",
    "    def forward(self, x):\n",
    "        mu, logvar = self.encoder(x)\n",
    "        z = self.reparameterize(mu, logvar)\n",
    "        x_reconstructed = self.decoder(z)\n",
    "        return x_reconstructed, mu, logvar\n",
    "\n",
    "    def reparameterize(self, mu, logvar):\n",
    "        std = torch.exp(0.5 * logvar)\n",
    "        eps = torch.randn_like(std)\n",
    "        return mu + eps * std\n",
    "\n",
    "# Hyperparameters\n",
    "input_dim = 32\n",
    "latent_dim = 256\n",
    "lr = 1e-4\n",
    "batch_size = 32\n",
    "epochs = 25\n",
    "\n",
    "# Create the VAE model\n",
    "vae = VAE(input_dim, latent_dim)\n",
    "\n",
    "# Define loss function\n",
    "def loss_function(reconstructed_x, x, mu, logvar):\n",
    "    reconstruction_loss = nn.functional.mse_loss(reconstructed_x, x, reduction='sum')\n",
    "    KLD = -0.5 * torch.sum(1 + logvar - mu.pow(2) - logvar.exp())\n",
    "    return reconstruction_loss + KLD\n",
    "\n",
    "# Create optimizer\n",
    "optimizer = optim.Adam(vae.parameters(), lr=lr)\n",
    "\n",
    "# Training loop\n",
    "for epoch in range(epochs):\n",
    "    total_loss = 0\n",
    "    for i in tqdm(range(0, len(source_poses), 32), leave = True, position = 0): \n",
    "        data_point =  source_poses[i:i + 32]\n",
    "        data_point = np.array(data_point).reshape(-1,32)\n",
    "#         print(data_point.shape)\n",
    "        data_point = torch.tensor(data_point, dtype=torch.float32)\n",
    "        \n",
    "        optimizer.zero_grad()\n",
    "        reconstructed_data, mean, logvar = vae(data_point)\n",
    "        loss = loss_function(reconstructed_data, data_point, mean, logvar)\n",
    "        loss.backward()\n",
    "        optimizer.step()\n",
    "        total_loss += loss.item()\n",
    "        optimizer.step()\n",
    "    print(f'Epoch {epoch+1}/{epochs}, Loss: {total_loss / 451000}')\n",
    "\n",
    "# Generate samples from the trained VAE\n",
    "# with torch.no_grad():\n",
    "#     z = torch.randn(16, latent_dim)\n",
    "#     generated_samples = vae.decoder(z)\n",
    "\n",
    "# You can convert generated_samples to a format suitable for your application\n"
   ]
  },
  {
   "cell_type": "code",
   "execution_count": 2,
   "metadata": {},
   "outputs": [],
   "source": [
    "import random\n",
    "import time\n",
    "import warnings\n",
    "import sys\n",
    "import argparse\n",
    "import shutil\n",
    "import cv2 \n",
    "import math\n",
    "import os\n",
    "# os.environ[\"CUDA_VISIBLE_DEVICES\"] = \"2\"\n",
    "\n",
    "import random\n",
    "\n",
    "import numpy as np\n",
    "import matplotlib.pyplot as plt\n",
    "from tqdm import tqdm\n",
    "\n",
    "import torch\n",
    "import torch.backends.cudnn as cudnn\n",
    "from torch.optim import SGD\n",
    "from torch.optim.lr_scheduler import LambdaLR, MultiStepLR\n",
    "from torch.utils.data import DataLoader\n",
    "from torchvision.transforms import Compose, ToPILImage\n",
    "\n",
    "sys.path.append('../..')\n",
    "from tllib.alignment.regda import PoseResNet2d as RegDAPoseResNet, \\\n",
    "    PseudoLabelGenerator2d, RegressionDisparity\n",
    "import tllib.vision.models as models\n",
    "from tllib.vision.models.keypoint_detection.pose_resnet import Upsampling, PoseResNet\n",
    "from tllib.vision.models.keypoint_detection.loss import JointsKLLoss\n",
    "import tllib.vision.datasets.keypoint_detection as datasets\n",
    "import tllib.vision.transforms.keypoint_detection as T\n",
    "from tllib.vision.transforms import Denormalize\n",
    "from tllib.utils.data import ForeverDataIterator\n",
    "from tllib.utils.meter import AverageMeter, ProgressMeter, AverageMeterDict\n",
    "from tllib.utils.metric.keypoint_detection import accuracy\n",
    "from tllib.utils.logger import CompleteLogger\n",
    "from webcolors import name_to_rgb\n",
    "device = torch.device(\"cuda:2\")"
   ]
  },
  {
   "cell_type": "code",
   "execution_count": 1,
   "metadata": {},
   "outputs": [],
   "source": [
    "def get_colored_skeleton():\n",
    "    \"\"\"\n",
    "    Dataset with 16 body keypoints.\n",
    "    \"\"\"\n",
    "    # TODO: add image\n",
    "    head = (9,)\n",
    "    shoulder = (12, 13)\n",
    "    elbow = (11, 14)\n",
    "    wrist = (10, 15)\n",
    "    hip = (2, 3)\n",
    "    knee = (1, 4)\n",
    "    ankle = (0, 5)\n",
    "    all = (12, 13, 11, 14, 10, 15, 2, 3, 1, 4, 0, 5)\n",
    "    right_leg = (0, 1, 2, 8)\n",
    "    left_leg = (5, 4, 3, 8)\n",
    "    backbone = (8, 9)\n",
    "    right_arm = (10, 11, 12, 8)\n",
    "    left_arm = (15, 14, 13, 8)\n",
    "\n",
    "\n",
    "    colored_skeleton = {\n",
    "        \"right_leg\": (right_leg, 'yellow'),\n",
    "        \"left_leg\": (left_leg, 'green'),\n",
    "        \"backbone\": (backbone, 'blue'),\n",
    "        \"right_arm\": (right_arm, 'purple'),\n",
    "        \"left_arm\": (left_arm, 'red'),\n",
    "    }\n",
    "    return colored_skeleton"
   ]
  },
  {
   "cell_type": "code",
   "execution_count": 3,
   "metadata": {},
   "outputs": [],
   "source": [
    " def get_colored_skeleton():\n",
    "        all = tuple(range(21))\n",
    "        thumb = (0, 1, 2, 3, 4)\n",
    "        index_finger = (0, 5, 6, 7, 8)\n",
    "        middle_finger = (0, 9, 10, 11, 12)\n",
    "        ring_finger = (0, 13, 14, 15, 16)\n",
    "        little_finger = (0, 17, 18, 19, 20)\n",
    "\n",
    "        colored_skeleton = {\n",
    "            \"thumb\": (thumb, 'yellow'),\n",
    "            \"index_finger\": (index_finger, 'green'),\n",
    "            \"middle_finger\": (middle_finger, 'blue'),\n",
    "            \"ring_finger\": (ring_finger, 'purple'),\n",
    "            \"little_finger\": (little_finger, 'red'),\n",
    "        }\n",
    "        \n",
    "        return colored_skeleton"
   ]
  },
  {
   "cell_type": "code",
   "execution_count": 5,
   "metadata": {},
   "outputs": [],
   "source": [
    "source_root = '/pfs/rdi/cei/synthetic_data/public_dataset/RHD/'\n",
    "source = 'RenderedHandPose' \n",
    "target_root = '/pfs/rdi/cei/synthetic_data/public_dataset/lsp/'\n",
    "target = 'Hand3DStudio'\n",
    "\n",
    "image_size = (256,256)\n",
    "heatmap_size = (64, 64)\n",
    "resize_scale = (0.6, 1.3)\n",
    "batch_size = 32\n",
    "\n",
    "normalize = T.Normalize([0.485, 0.456, 0.406], [0.229, 0.224, 0.225])\n",
    "transform = T.Compose([\n",
    "    T.Resize(image_size[0]),\n",
    "    T.ToTensor(),\n",
    "])\n",
    "\n",
    "# define visualization function\n",
    "tensor_to_image = Compose([\n",
    "    ToPILImage()\n",
    "])"
   ]
  },
  {
   "cell_type": "code",
   "execution_count": 3,
   "metadata": {},
   "outputs": [
    {
     "name": "stdout",
     "output_type": "stream",
     "text": [
      "['leftFoot', 'leftLeg', 'leftUpLeg', 'rightUpLeg', 'rightLeg', 'rightFoot', 'hips', 'spine2', 'neck', 'head', 'leftHand', 'leftForeArm', 'leftShoulder', 'rightShoulder', 'rightForeArm', 'rightHand']\n"
     ]
    },
    {
     "name": "stderr",
     "output_type": "stream",
     "text": [
      "/opt/conda/lib/python3.6/site-packages/ipykernel_launcher.py:16: FutureWarning: Using a non-tuple sequence for multidimensional indexing is deprecated; use `arr[tuple(seq)]` instead of `arr[seq]`. In the future this will be interpreted as an array index, `arr[np.array(seq)]`, which will result either in an error or a different result.\n",
      "  app.launch_new_instance()\n"
     ]
    }
   ],
   "source": [
    "source_root = '/pfs/rdi/cei/synthetic_data/public_dataset/surreal/surreal_processed'\n",
    "source = 'SURREAL'\n",
    "target_root = '/pfs/rdi/cei/synthetic_data/public_dataset/lsp'\n",
    "target = 'LSP'\n",
    "pretrained_model_path = '/pfs/rdi/cei/algo_train/ishadua/SyntheticDataset/KePSI_logs/regda/surreal2lsp/checkpoints/best.pth'\n",
    "image_size = (256,256)\n",
    "heatmap_size = (64, 64)\n",
    "resize_scale = (0.6, 1.3)\n",
    "batch_size = 32\n",
    "joint_names = ['hips','leftUpLeg','rightUpLeg', 'spine','leftLeg', 'rightLeg','spine1', 'leftFoot','rightFoot','spine2','leftToeBase',\n",
    "            'rightToeBase','neck','leftShoulder','rightShoulder', 'head','leftArm', 'rightArm', 'leftForeArm', 'rightForeArm', 'leftHand', \n",
    "            'rightHand','leftHandIndex1', 'rightHandIndex1']\n",
    "\n",
    "joint_names = np.array(joint_names)\n",
    "joint_index =  (7, 4, 1, 2, 5, 8, 0, 9, 12, 15, 20, 18, 13, 14, 19, 21)\n",
    "joint_names = list(joint_names[[joint_index]])\n",
    "print(joint_names)"
   ]
  },
  {
   "cell_type": "code",
   "execution_count": 4,
   "metadata": {},
   "outputs": [],
   "source": [
    "kinematic_tree = [('head','neck','rightShoulder'),\n",
    "                  ('head','neck','leftShoulder'),\n",
    "                  ('neck','rightShoulder', 'rightForeArm'),\n",
    "                  ('neck','leftShoulder', 'leftForeArm'),\n",
    "                  ('rightShoulder', 'rightForeArm','rightHand'),\n",
    "                  ('leftShoulder', 'leftForeArm','leftHand'),\n",
    "                  ('head','neck','leftUpLeg'),\n",
    "                  ('head','neck','rightUpLeg'),\n",
    "                  ('neck','leftUpLeg', 'leftLeg'),\n",
    "                  ('neck','rightUpLeg', 'rightLeg'),           \n",
    "                  ('leftUpLeg', 'leftLeg', 'leftFoot'),\n",
    "                  ('rightUpLeg', 'rightLeg', 'rightFoot'),\n",
    "\n",
    "                  ('rightShoulder', 'neck', 'leftShoulder'), # new\n",
    "                  ('rightShoulder', 'neck', 'leftForeArm'),\n",
    "                  ('rightShoulder', 'neck', 'leftHand'),\n",
    "                  ('rightShoulder', 'neck', 'leftUpLeg'),\n",
    "                  ('rightShoulder', 'neck', 'leftLeg'),\n",
    "                  ('rightShoulder', 'neck', 'leftFoot'),\n",
    "                  ('rightShoulder', 'neck', 'rightUpLeg'),\n",
    "                  ('rightShoulder', 'neck', 'rightLeg'),\n",
    "                  ('rightShoulder', 'neck', 'rightFoot'),\n",
    "\n",
    "\n",
    "                  ('rightForeArm', 'neck', 'leftShoulder'), # new\n",
    "                  ('rightForeArm', 'neck', 'leftForeArm'),\n",
    "                  ('rightForeArm', 'neck', 'leftHand'),\n",
    "                  ('rightForeArm', 'neck', 'leftUpLeg'),\n",
    "                  ('rightForeArm', 'neck', 'leftLeg'),\n",
    "                  ('rightForeArm', 'neck', 'leftFoot'),\n",
    "                  ('rightForeArm', 'neck', 'rightUpLeg'),\n",
    "                  ('rightForeArm', 'neck', 'rightLeg'),\n",
    "                  ('rightForeArm', 'neck', 'rightFoot'),\n",
    "\n",
    "                  ('rightHand', 'neck', 'leftShoulder'), # new\n",
    "                  ('rightHand', 'neck', 'leftForeArm'),\n",
    "                  ('rightHand', 'neck', 'leftHand'),\n",
    "                  ('rightHand', 'neck', 'leftUpLeg'),\n",
    "                  ('rightHand', 'neck', 'leftLeg'),\n",
    "                  ('rightHand', 'neck', 'leftFoot'),\n",
    "                  ('rightHand', 'neck', 'rightUpLeg'),\n",
    "                  ('rightHand', 'neck', 'rightLeg'),\n",
    "                  ('rightHand', 'neck', 'rightFoot'),\n",
    "\n",
    "                  ('rightUpLeg', 'neck', 'leftShoulder'), # new\n",
    "                  ('rightUpLeg', 'neck', 'leftForeArm'),\n",
    "                  ('rightUpLeg', 'neck', 'leftHand'),\n",
    "                  ('rightUpLeg', 'neck', 'leftUpLeg'),\n",
    "                  ('rightUpLeg', 'neck', 'leftLeg'),\n",
    "                  ('rightUpLeg', 'neck', 'leftFoot'),\n",
    "\n",
    "                  ('rightLeg', 'neck', 'leftShoulder'), # new\n",
    "                  ('rightLeg', 'neck', 'leftForeArm'),\n",
    "                  ('rightLeg', 'neck', 'leftHand'),\n",
    "                  ('rightLeg', 'neck', 'leftUpLeg'),\n",
    "                  ('rightLeg', 'neck', 'leftLeg'),\n",
    "                  ('rightLeg', 'neck', 'leftFoot'),\n",
    "\n",
    "                  ('rightFoot', 'neck', 'leftShoulder'), # new\n",
    "                  ('rightFoot', 'neck', 'leftForeArm'),\n",
    "                  ('rightFoot', 'neck', 'leftHand'),\n",
    "                  ('rightFoot', 'neck', 'leftUpLeg'),\n",
    "                  ('rightFoot', 'neck', 'leftLeg'),\n",
    "                  ('rightFoot', 'neck', 'leftFoot'),\n",
    "\n",
    "                  ('leftUpLeg', 'neck', 'leftShoulder'), # new\n",
    "                  ('leftUpLeg', 'neck', 'leftForeArm'),\n",
    "                  ('leftUpLeg', 'neck', 'leftHand'),\n",
    "\n",
    "                  ('leftLeg', 'neck', 'leftShoulder'), # new\n",
    "                  ('leftLeg', 'neck', 'leftForeArm'),\n",
    "                  ('leftLeg', 'neck', 'leftHand'),\n",
    "\n",
    "                  ('leftFoot', 'neck', 'leftShoulder'), # new\n",
    "                  ('leftFoot', 'neck', 'leftForeArm'),\n",
    "                  ('leftFoot', 'neck', 'leftHand'),\n",
    "\n",
    " \n",
    "\n",
    "                 ]"
   ]
  },
  {
   "cell_type": "code",
   "execution_count": 20,
   "metadata": {},
   "outputs": [],
   "source": [
    "kinematic_tree = [('head','neck','rightShoulder'),\n",
    "                  ('head','neck','leftShoulder'),\n",
    "                  ('neck','rightShoulder', 'rightForeArm'),\n",
    "                  ('neck','leftShoulder', 'leftForeArm'),\n",
    "                  ('rightShoulder', 'rightForeArm','rightHand'),\n",
    "                  ('leftShoulder', 'leftForeArm','leftHand'),\n",
    "                  ('head','neck','leftUpLeg'),\n",
    "                  ('head','neck','rightUpLeg'),\n",
    "                  ('neck','leftUpLeg', 'leftLeg'),\n",
    "                  ('neck','rightUpLeg', 'rightLeg'),\n",
    "                  ('leftUpLeg', 'leftLeg', 'leftFoot'),\n",
    "                  ('rightUpLeg', 'rightLeg', 'rightFoot'),\n",
    "                 ]\n"
   ]
  },
  {
   "cell_type": "code",
   "execution_count": 6,
   "metadata": {},
   "outputs": [],
   "source": [
    "joint_names = ['handcenter',\n",
    "                'thumb1',\n",
    "                'thumb2',\n",
    "                'thumb3',\n",
    "                'thumb4',\n",
    "                'index_finger1',\n",
    "                'index_finger2',\n",
    "                'index_finger3',\n",
    "                'index_finger4',\n",
    "                'middle_finger1',\n",
    "                'middle_finger2',\n",
    "                'middle_finger3',\n",
    "                'middle_finger4',\n",
    "                'ring_finger1',\n",
    "                'ring_finger2',\n",
    "                'ring_finger3',\n",
    "                'ring_finger4',\n",
    "                'little_finger1',\n",
    "                'little_finger2',\n",
    "                'little_finger3',\n",
    "                'little_finger4',\n",
    "                ]\n",
    "\n",
    "kinematic_tree = [('handcenter','thumb1','thumb2'),\n",
    "                  ('thumb1','thumb2','thumb3'),\n",
    "                  ('thumb2','thumb3','thumb4'),\n",
    "                  \n",
    "                  ('handcenter','index_finger1','index_finger2'),\n",
    "                  ('index_finger1','index_finger2','index_finger3'),\n",
    "                  ('index_finger2','index_finger3','index_finger4'),\n",
    "                  \n",
    "                  ('handcenter','middle_finger1','middle_finger2'),\n",
    "                  ('middle_finger1','middle_finger2','middle_finger3'),\n",
    "                  ('middle_finger2','middle_finger3','middle_finger4'),\n",
    "                  \n",
    "                  ('handcenter','ring_finger1','ring_finger2'),\n",
    "                  ('ring_finger1','ring_finger2','ring_finger3'),\n",
    "                  ('ring_finger2','ring_finger3','ring_finger4'),\n",
    "                  \n",
    "                  ('handcenter','little_finger1','little_finger2'),\n",
    "                  ('little_finger1','little_finger2','little_finger3'),\n",
    "                  ('little_finger2','little_finger3','little_finger4'),\n",
    "                  \n",
    "                  ('thumb1', 'handcenter', 'index_finger1'),\n",
    "                  ('thumb1', 'handcenter', 'index_finger2'),\n",
    "                  ('thumb1', 'handcenter', 'index_finger3'),\n",
    "                  ('thumb1', 'handcenter', 'index_finger4'),\n",
    "                  \n",
    "                  ('thumb1', 'handcenter', 'middle_finger1'),\n",
    "                  ('thumb1', 'handcenter', 'middle_finger2'),\n",
    "                  ('thumb1', 'handcenter', 'middle_finger3'),\n",
    "                  ('thumb1', 'handcenter', 'middle_finger4'),\n",
    "                  \n",
    "                  ('thumb1', 'handcenter', 'ring_finger1'),\n",
    "                  ('thumb1', 'handcenter', 'ring_finger2'),\n",
    "                  ('thumb1', 'handcenter', 'ring_finger3'),\n",
    "                  ('thumb1', 'handcenter', 'ring_finger4'),\n",
    "                  \n",
    "                  ('thumb1', 'handcenter', 'little_finger1'),\n",
    "                  ('thumb1', 'handcenter', 'little_finger2'),\n",
    "                  ('thumb1', 'handcenter', 'little_finger3'),\n",
    "                  ('thumb1', 'handcenter', 'little_finger4'),\n",
    "                  \n",
    "                  ('thumb2', 'handcenter', 'index_finger1'),\n",
    "                  ('thumb2', 'handcenter', 'index_finger2'),\n",
    "                  ('thumb2', 'handcenter', 'index_finger3'),\n",
    "                  ('thumb2', 'handcenter', 'index_finger4'),\n",
    "                  \n",
    "                  ('thumb2', 'handcenter', 'middle_finger1'),\n",
    "                  ('thumb2', 'handcenter', 'middle_finger2'),\n",
    "                  ('thumb2', 'handcenter', 'middle_finger3'),\n",
    "                  ('thumb2', 'handcenter', 'middle_finger4'),\n",
    "                  \n",
    "                  ('thumb2', 'handcenter', 'ring_finger1'),\n",
    "                  ('thumb2', 'handcenter', 'ring_finger2'),\n",
    "                  ('thumb2', 'handcenter', 'ring_finger3'),\n",
    "                  ('thumb2', 'handcenter', 'ring_finger4'),\n",
    "                  \n",
    "                  ('thumb2', 'handcenter', 'little_finger1'),\n",
    "                  ('thumb2', 'handcenter', 'little_finger2'),\n",
    "                  ('thumb2', 'handcenter', 'little_finger3'),\n",
    "                  ('thumb2', 'handcenter', 'little_finger4'),\n",
    "                  \n",
    "                  ('thumb3', 'handcenter', 'index_finger1'),\n",
    "                  ('thumb3', 'handcenter', 'index_finger2'),\n",
    "                  ('thumb3', 'handcenter', 'index_finger3'),\n",
    "                  ('thumb3', 'handcenter', 'index_finger4'),\n",
    "                  \n",
    "                  ('thumb3', 'handcenter', 'middle_finger1'),\n",
    "                  ('thumb3', 'handcenter', 'middle_finger2'),\n",
    "                  ('thumb3', 'handcenter', 'middle_finger3'),\n",
    "                  ('thumb3', 'handcenter', 'middle_finger4'),\n",
    "                  \n",
    "                  ('thumb3', 'handcenter', 'ring_finger1'),\n",
    "                  ('thumb3', 'handcenter', 'ring_finger2'),\n",
    "                  ('thumb3', 'handcenter', 'ring_finger3'),\n",
    "                  ('thumb3', 'handcenter', 'ring_finger4'),\n",
    "                  \n",
    "                  ('thumb3', 'handcenter', 'little_finger1'),\n",
    "                  ('thumb3', 'handcenter', 'little_finger2'),\n",
    "                  ('thumb3', 'handcenter', 'little_finger3'),\n",
    "                  ('thumb3', 'handcenter', 'little_finger4'),\n",
    "                  \n",
    "                  ('thumb4', 'handcenter', 'index_finger1'),\n",
    "                  ('thumb4', 'handcenter', 'index_finger2'),\n",
    "                  ('thumb4', 'handcenter', 'index_finger3'),\n",
    "                  ('thumb4', 'handcenter', 'index_finger4'),\n",
    "                  \n",
    "                  ('thumb4', 'handcenter', 'middle_finger1'),\n",
    "                  ('thumb4', 'handcenter', 'middle_finger2'),\n",
    "                  ('thumb4', 'handcenter', 'middle_finger3'),\n",
    "                  ('thumb4', 'handcenter', 'middle_finger4'),\n",
    "                  \n",
    "                  ('thumb4', 'handcenter', 'ring_finger1'),\n",
    "                  ('thumb4', 'handcenter', 'ring_finger2'),\n",
    "                  ('thumb4', 'handcenter', 'ring_finger3'),\n",
    "                  ('thumb4', 'handcenter', 'ring_finger4'),\n",
    "                  \n",
    "                  ('thumb4', 'handcenter', 'little_finger1'),\n",
    "                  ('thumb4', 'handcenter', 'little_finger2'),\n",
    "                  ('thumb4', 'handcenter', 'little_finger3'),\n",
    "                  ('thumb4', 'handcenter', 'little_finger4'),\n",
    "                  \n",
    "                  ('index_finger1', 'handcenter', 'middle_finger1'),\n",
    "                  ('index_finger1', 'handcenter', 'middle_finger2'),\n",
    "                  ('index_finger1', 'handcenter', 'middle_finger3'),\n",
    "                  ('index_finger1', 'handcenter', 'middle_finger4'),\n",
    "                  \n",
    "                  ('index_finger1', 'handcenter', 'ring_finger1'),\n",
    "                  ('index_finger1', 'handcenter', 'ring_finger2'),\n",
    "                  ('index_finger1', 'handcenter', 'ring_finger3'),\n",
    "                  ('index_finger1', 'handcenter', 'ring_finger4'),\n",
    "                  \n",
    "                  ('index_finger1', 'handcenter', 'little_finger1'),\n",
    "                  ('index_finger1', 'handcenter', 'little_finger2'),\n",
    "                  ('index_finger1', 'handcenter', 'little_finger3'),\n",
    "                  ('index_finger1', 'handcenter', 'little_finger4'),\n",
    "                  \n",
    "                  ('index_finger2', 'handcenter', 'middle_finger1'),\n",
    "                  ('index_finger2', 'handcenter', 'middle_finger2'),\n",
    "                  ('index_finger2', 'handcenter', 'middle_finger3'),\n",
    "                  ('index_finger2', 'handcenter', 'middle_finger4'),\n",
    "                  \n",
    "                  ('index_finger2', 'handcenter', 'ring_finger1'),\n",
    "                  ('index_finger2', 'handcenter', 'ring_finger2'),\n",
    "                  ('index_finger2', 'handcenter', 'ring_finger3'),\n",
    "                  ('index_finger2', 'handcenter', 'ring_finger4'),\n",
    "                  \n",
    "                  ('index_finger2', 'handcenter', 'little_finger1'),\n",
    "                  ('index_finger2', 'handcenter', 'little_finger2'),\n",
    "                  ('index_finger2', 'handcenter', 'little_finger3'),\n",
    "                  ('index_finger2', 'handcenter', 'little_finger4'),\n",
    "                                    \n",
    "                  ('index_finger3', 'handcenter', 'middle_finger1'),\n",
    "                  ('index_finger3', 'handcenter', 'middle_finger2'),\n",
    "                  ('index_finger3', 'handcenter', 'middle_finger3'),\n",
    "                  ('index_finger3', 'handcenter', 'middle_finger4'),\n",
    "                  \n",
    "                  ('index_finger3', 'handcenter', 'ring_finger1'),\n",
    "                  ('index_finger3', 'handcenter', 'ring_finger2'),\n",
    "                  ('index_finger3', 'handcenter', 'ring_finger3'),\n",
    "                  ('index_finger3', 'handcenter', 'ring_finger4'),\n",
    "                  \n",
    "                  ('index_finger3', 'handcenter', 'little_finger1'),\n",
    "                  ('index_finger3', 'handcenter', 'little_finger2'),\n",
    "                  ('index_finger3', 'handcenter', 'little_finger3'),\n",
    "                  ('index_finger3', 'handcenter', 'little_finger4'),\n",
    "                  \n",
    "                  ('index_finger4', 'handcenter', 'middle_finger1'),\n",
    "                  ('index_finger4', 'handcenter', 'middle_finger2'),\n",
    "                  ('index_finger4', 'handcenter', 'middle_finger3'),\n",
    "                  ('index_finger4', 'handcenter', 'middle_finger4'),\n",
    "                  \n",
    "                  ('index_finger4', 'handcenter', 'ring_finger1'),\n",
    "                  ('index_finger4', 'handcenter', 'ring_finger2'),\n",
    "                  ('index_finger4', 'handcenter', 'ring_finger3'),\n",
    "                  ('index_finger4', 'handcenter', 'ring_finger4'),\n",
    "                  \n",
    "                  ('index_finger4', 'handcenter', 'little_finger1'),\n",
    "                  ('index_finger4', 'handcenter', 'little_finger2'),\n",
    "                  ('index_finger4', 'handcenter', 'little_finger3'),\n",
    "                  ('index_finger4', 'handcenter', 'little_finger4'),\n",
    "                  \n",
    "                  ('middle_finger1', 'handcenter', 'ring_finger1'),\n",
    "                  ('middle_finger1', 'handcenter', 'ring_finger2'),\n",
    "                  ('middle_finger1', 'handcenter', 'ring_finger3'),\n",
    "                  ('middle_finger1', 'handcenter', 'ring_finger4'),\n",
    "                  \n",
    "                  ('middle_finger1', 'handcenter', 'little_finger1'),\n",
    "                  ('middle_finger1', 'handcenter', 'little_finger2'),\n",
    "                  ('middle_finger1', 'handcenter', 'little_finger3'),\n",
    "                  ('middle_finger1', 'handcenter', 'little_finger4'),\n",
    "                  \n",
    "                  ('middle_finger2', 'handcenter', 'ring_finger1'),\n",
    "                  ('middle_finger2', 'handcenter', 'ring_finger2'),\n",
    "                  ('middle_finger2', 'handcenter', 'ring_finger3'),\n",
    "                  ('middle_finger2', 'handcenter', 'ring_finger4'),\n",
    "                  \n",
    "                  ('middle_finger2', 'handcenter', 'little_finger1'),\n",
    "                  ('middle_finger2', 'handcenter', 'little_finger2'),\n",
    "                  ('middle_finger2', 'handcenter', 'little_finger3'),\n",
    "                  ('middle_finger2', 'handcenter', 'little_finger4'),\n",
    "                  \n",
    "                  ('middle_finger3', 'handcenter', 'ring_finger1'),\n",
    "                  ('middle_finger3', 'handcenter', 'ring_finger2'),\n",
    "                  ('middle_finger3', 'handcenter', 'ring_finger3'),\n",
    "                  ('middle_finger3', 'handcenter', 'ring_finger4'),\n",
    "                  \n",
    "                  ('middle_finger3', 'handcenter', 'little_finger1'),\n",
    "                  ('middle_finger3', 'handcenter', 'little_finger2'),\n",
    "                  ('middle_finger3', 'handcenter', 'little_finger3'),\n",
    "                  ('middle_finger3', 'handcenter', 'little_finger4'),\n",
    "                  \n",
    "                  ('middle_finger4', 'handcenter', 'ring_finger1'),\n",
    "                  ('middle_finger4', 'handcenter', 'ring_finger2'),\n",
    "                  ('middle_finger4', 'handcenter', 'ring_finger3'),\n",
    "                  ('middle_finger4', 'handcenter', 'ring_finger4'),\n",
    "                  \n",
    "                  ('middle_finger4', 'handcenter', 'little_finger1'),\n",
    "                  ('middle_finger4', 'handcenter', 'little_finger2'),\n",
    "                  ('middle_finger4', 'handcenter', 'little_finger3'),\n",
    "                  ('middle_finger4', 'handcenter', 'little_finger4'),\n",
    "                  \n",
    "                  ('ring_finger1', 'handcenter', 'little_finger1'),\n",
    "                  ('ring_finger1', 'handcenter', 'little_finger2'),\n",
    "                  ('ring_finger1', 'handcenter', 'little_finger3'),\n",
    "                  ('ring_finger1', 'handcenter', 'little_finger4'),\n",
    "                  \n",
    "                  ('ring_finger2', 'handcenter', 'little_finger1'),\n",
    "                  ('ring_finger2', 'handcenter', 'little_finger2'),\n",
    "                  ('ring_finger2', 'handcenter', 'little_finger3'),\n",
    "                  ('ring_finger2', 'handcenter', 'little_finger4'),\n",
    "                  \n",
    "                  ('ring_finger3', 'handcenter', 'little_finger1'),\n",
    "                  ('ring_finger3', 'handcenter', 'little_finger2'),\n",
    "                  ('ring_finger3', 'handcenter', 'little_finger3'),\n",
    "                  ('ring_finger3', 'handcenter', 'little_finger4'),\n",
    "                  \n",
    "                  ('ring_finger4', 'handcenter', 'little_finger1'),\n",
    "                  ('ring_finger4', 'handcenter', 'little_finger2'),\n",
    "                  ('ring_finger4', 'handcenter', 'little_finger3'),\n",
    "                  ('ring_finger4', 'handcenter', 'little_finger4'),\n",
    "                 ]"
   ]
  },
  {
   "cell_type": "code",
   "execution_count": 5,
   "metadata": {},
   "outputs": [],
   "source": [
    "def visualize(image, keypoints, filename):\n",
    "    colored_skeleton = get_colored_skeleton()\n",
    "    image = cv2.cvtColor(np.asarray(image), cv2.COLOR_RGB2BGR).copy()\n",
    "    for (_, (line, color)) in colored_skeleton.items():\n",
    "        for i in range(len(line) - 1):\n",
    "            start, end = keypoints[line[i]], keypoints[line[i + 1]]\n",
    "            cv2.line(image, (int(start[0]), int(start[1])), (int(end[0]), int(end[1])), color=name_to_rgb(color),\n",
    "                     thickness=3)\n",
    "    for keypoint in keypoints:\n",
    "        cv2.circle(image, (int(keypoint[0]), int(keypoint[1])), 3, name_to_rgb('black'), 1)\n",
    "    return image"
   ]
  },
  {
   "cell_type": "code",
   "execution_count": 6,
   "metadata": {},
   "outputs": [],
   "source": [
    "normalize = T.Normalize([0.485, 0.456, 0.406], [0.229, 0.224, 0.225])\n",
    "train_transform = T.Compose([\n",
    "    T.RandomRotation(60),\n",
    "    T.RandomResizedCrop(size=image_size, scale=resize_scale),\n",
    "    T.ColorJitter(brightness=0.25, contrast=0.25, saturation=0.25),\n",
    "    T.GaussianBlur(),\n",
    "    T.ToTensor(),\n",
    "    normalize\n",
    "])\n",
    "val_transform = T.Compose([\n",
    "    T.Resize(image_size[0]),\n",
    "    T.ToTensor(),\n",
    "    normalize\n",
    "])\n",
    "\n",
    "# define visualization function\n",
    "tensor_to_image = Compose([\n",
    "    Denormalize([0.485, 0.456, 0.406], [0.229, 0.224, 0.225]),\n",
    "    ToPILImage()\n",
    "])"
   ]
  },
  {
   "cell_type": "code",
   "execution_count": 8,
   "metadata": {},
   "outputs": [
    {
     "name": "stdout",
     "output_type": "stream",
     "text": [
      "loading /pfs/rdi/cei/synthetic_data/public_dataset/surreal/surreal_processed/test/run0.json\n",
      "loading /pfs/rdi/cei/synthetic_data/public_dataset/surreal/surreal_processed/test/run1.json\n",
      "loading /pfs/rdi/cei/synthetic_data/public_dataset/surreal/surreal_processed/test/run2.json\n",
      "Source test: 100\n"
     ]
    }
   ],
   "source": [
    "source_dataset = datasets.__dict__[source]\n",
    "val_source_dataset = source_dataset(root=source_root, split='test', transforms=val_transform,\n",
    "                                    image_size=image_size, heatmap_size=heatmap_size)\n",
    "val_source_loader = DataLoader(val_source_dataset, batch_size=batch_size, shuffle=True, pin_memory=True)\n",
    "print(\"Source test:\", len(val_source_loader))\n",
    "\n",
    "# target_dataset = datasets.__dict__[target]\n",
    "# val_target_dataset = target_dataset(root=target_root, split='test', transforms=val_transform,\n",
    "#                                     image_size=image_size, heatmap_size=heatmap_size)\n",
    "# val_target_loader = DataLoader(val_target_dataset, batch_size=batch_size, shuffle=True, pin_memory=True)\n",
    "# print(\"Target test:\", len(val_target_loader))"
   ]
  },
  {
   "cell_type": "code",
   "execution_count": 12,
   "metadata": {},
   "outputs": [
    {
     "name": "stderr",
     "output_type": "stream",
     "text": [
      "11it [00:03,  3.40it/s]/opt/conda/lib/python3.6/site-packages/ipykernel_launcher.py:9: RuntimeWarning: invalid value encountered in true_divide\n",
      "  if __name__ == '__main__':\n",
      "100it [00:25,  4.43it/s]\n"
     ]
    }
   ],
   "source": [
    "target_angle_vector = []\n",
    "target_images = []\n",
    "target_indexes = []\n",
    "target_poses = []\n",
    "for i, (index, x, label, weight, meta) in tqdm(enumerate(val_source_loader),position = 0, leave = True):\n",
    "    x = x.to(device)\n",
    "    label = label.to(device)\n",
    "    weight = weight.to(device)\n",
    "    pose = np.array(meta['keypoint2d']).astype(int)\n",
    "    dk = pose.reshape(-1,32)\n",
    "    target_poses.extend(dk)\n",
    "    angle_vector = get_angle_vector(pose, joint_names, kinematic_tree)\n",
    "    target_angle_vector.extend(angle_vector)\n",
    "    target_indexes.extend(index.numpy())    \n",
    "    for j in range(len(x)):\n",
    "        image = visualize(tensor_to_image(x[j]), meta['keypoint2d'][j],  'test.png')\n",
    "        target_images.append(image)"
   ]
  },
  {
   "cell_type": "code",
   "execution_count": 16,
   "metadata": {},
   "outputs": [
    {
     "data": {
      "image/png": "[encoded data removed]",
      "text/plain": [
       "<PIL.Image.Image image mode=RGB size=256x256 at 0x7F5EB04D3A58>"
      ]
     },
     "execution_count": 16,
     "metadata": {},
     "output_type": "execute_result"
    }
   ],
   "source": [
    "tensor_to_image(x[j])"
   ]
  },
  {
   "cell_type": "code",
   "execution_count": 10,
   "metadata": {},
   "outputs": [],
   "source": [
    "def angle_of_vectors(joint1, joint2, joint3):\n",
    "    a = joint1[0]-joint2[0]\n",
    "    b = joint1[1]-joint2[1]\n",
    "    c = joint3[0]-joint2[0]\n",
    "    d = joint3[1]-joint2[1]\n",
    "    \n",
    "    dotProduct = a*c + b*d\n",
    "    modOfVector = math.sqrt( a*a + b*b)*math.sqrt(c*c + d*d) \n",
    "    angle = dotProduct/modOfVector\n",
    "    \n",
    "    try:\n",
    "        angleInDegree = math.degrees(math.acos(angle))\n",
    "    except:\n",
    "#         print(angle)\n",
    "        angleInDegree = math.degrees(math.acos(angle.astype(int)))\n",
    "    return angleInDegree"
   ]
  },
  {
   "cell_type": "code",
   "execution_count": 13,
   "metadata": {},
   "outputs": [
    {
     "name": "stdout",
     "output_type": "stream",
     "text": [
      "(3200, 66)\n"
     ]
    }
   ],
   "source": [
    "target_angle_vector = np.array(target_angle_vector)\n",
    "target_poses = np.array(target_poses)\n",
    "print(target_angle_vector.shape)"
   ]
  },
  {
   "cell_type": "code",
   "execution_count": 11,
   "metadata": {},
   "outputs": [],
   "source": [
    "def get_angle_vector(poses, joint_names, kinematic_tree):\n",
    "    batch_angle_vector = []\n",
    "    for pose in poses:\n",
    "        angle_vector = []\n",
    "        for j, (joint1, joint2, joint3) in enumerate(kinematic_tree):\n",
    "            joint1 = pose[joint_names.index(joint1)]\n",
    "            joint2 = pose[joint_names.index(joint2)]\n",
    "            joint3 = pose[joint_names.index(joint3)]\n",
    "            angle = angle_of_vectors(joint1, joint2, joint3)\n",
    "            if math.isnan(angle): angle=0\n",
    "            angle_vector.append(np.round(angle,3))\n",
    "        batch_angle_vector.append(angle_vector)\n",
    "    return batch_angle_vector\n",
    "\n",
    "\n",
    "from numpy.linalg import norm\n",
    "def cos_dist(A,B):\n",
    "    A = np.array(A)\n",
    "    B = np.array(B)\n",
    "    cosine = np.dot(A,B)/(norm(A)*norm(B))\n",
    "    return cosine\n",
    "\n",
    "def get_similar_angle_vector(angle_vector, source_angle_vector):\n",
    "    similar_angle_vectors = []\n",
    "    for j in range(len(source_angle_vector)):\n",
    "#         print(cos_dist(angle_vector, source_angle_vector[j])[0])\n",
    "        similar_angle_vectors.append(cos_dist(angle_vector, source_angle_vector[j])[0])\n",
    "    return similar_angle_vectors \n",
    "\n",
    "def get_similar_angle_vector_optimized(angle_vector, source_angle_vector):\n",
    "    A_norm = norm(angle_vector, axis=-1)\n",
    "    B_norm = norm(source_angle_vector, axis=-1)\n",
    "    A_norm = np.tile(A_norm.reshape(len(A_norm),1), len(source_angle_vector))\n",
    "\n",
    "    A_norm_dot_B_norm = A_norm*B_norm\n",
    "    A_dot_B = np.dot(angle_vector, source_angle_vector.T)\n",
    "    cosine = A_dot_B/A_norm_dot_B_norm\n",
    "    return cosine**10"
   ]
  },
  {
   "cell_type": "code",
   "execution_count": 19,
   "metadata": {},
   "outputs": [
    {
     "name": "stderr",
     "output_type": "stream",
     "text": [
      "100%|██████████| 348/348 [00:02<00:00, 120.19it/s]\n",
      "  3%|▎         | 12/348 [00:00<00:02, 118.73it/s]"
     ]
    },
    {
     "name": "stdout",
     "output_type": "stream",
     "text": [
      "Epoch 1/45, Loss: 3849632797.3452315\n"
     ]
    },
    {
     "name": "stderr",
     "output_type": "stream",
     "text": [
      "100%|██████████| 348/348 [00:02<00:00, 129.84it/s]\n",
      "  4%|▎         | 13/348 [00:00<00:02, 128.19it/s]"
     ]
    },
    {
     "name": "stdout",
     "output_type": "stream",
     "text": [
      "Epoch 2/45, Loss: 377644.0001010237\n"
     ]
    },
    {
     "name": "stderr",
     "output_type": "stream",
     "text": [
      "100%|██████████| 348/348 [00:02<00:00, 121.19it/s]\n",
      "  4%|▎         | 13/348 [00:00<00:02, 116.55it/s]"
     ]
    },
    {
     "name": "stdout",
     "output_type": "stream",
     "text": [
      "Epoch 3/45, Loss: 97866.97294809627\n"
     ]
    },
    {
     "name": "stderr",
     "output_type": "stream",
     "text": [
      "100%|██████████| 348/348 [00:02<00:00, 119.78it/s]\n",
      "  4%|▍         | 14/348 [00:00<00:02, 131.40it/s]"
     ]
    },
    {
     "name": "stdout",
     "output_type": "stream",
     "text": [
      "Epoch 4/45, Loss: 81579.3774133441\n"
     ]
    },
    {
     "name": "stderr",
     "output_type": "stream",
     "text": [
      "100%|██████████| 348/348 [00:02<00:00, 127.84it/s]\n",
      "  3%|▎         | 11/348 [00:00<00:03, 106.85it/s]"
     ]
    },
    {
     "name": "stdout",
     "output_type": "stream",
     "text": [
      "Epoch 5/45, Loss: 76824.08053273168\n"
     ]
    },
    {
     "name": "stderr",
     "output_type": "stream",
     "text": [
      "100%|██████████| 348/348 [00:02<00:00, 125.69it/s]\n",
      "  4%|▍         | 15/348 [00:00<00:02, 144.40it/s]"
     ]
    },
    {
     "name": "stdout",
     "output_type": "stream",
     "text": [
      "Epoch 6/45, Loss: 74633.5574993265\n"
     ]
    },
    {
     "name": "stderr",
     "output_type": "stream",
     "text": [
      "100%|██████████| 348/348 [00:02<00:00, 119.83it/s]\n",
      "  4%|▎         | 13/348 [00:00<00:02, 123.92it/s]"
     ]
    },
    {
     "name": "stdout",
     "output_type": "stream",
     "text": [
      "Epoch 7/45, Loss: 73560.87283921515\n"
     ]
    },
    {
     "name": "stderr",
     "output_type": "stream",
     "text": [
      "100%|██████████| 348/348 [00:02<00:00, 122.02it/s]\n",
      "  3%|▎         | 9/348 [00:00<00:03, 85.03it/s]"
     ]
    },
    {
     "name": "stdout",
     "output_type": "stream",
     "text": [
      "Epoch 8/45, Loss: 72957.1479604436\n"
     ]
    },
    {
     "name": "stderr",
     "output_type": "stream",
     "text": [
      "100%|██████████| 348/348 [00:02<00:00, 130.33it/s]\n",
      "  4%|▍         | 14/348 [00:00<00:02, 138.00it/s]"
     ]
    },
    {
     "name": "stdout",
     "output_type": "stream",
     "text": [
      "Epoch 9/45, Loss: 72678.67738079203\n"
     ]
    },
    {
     "name": "stderr",
     "output_type": "stream",
     "text": [
      "100%|██████████| 348/348 [00:02<00:00, 119.66it/s]\n",
      "  4%|▎         | 13/348 [00:00<00:02, 121.44it/s]"
     ]
    },
    {
     "name": "stdout",
     "output_type": "stream",
     "text": [
      "Epoch 10/45, Loss: 72547.74470748025\n"
     ]
    },
    {
     "name": "stderr",
     "output_type": "stream",
     "text": [
      "100%|██████████| 348/348 [00:02<00:00, 124.84it/s]\n",
      "  3%|▎         | 12/348 [00:00<00:02, 112.47it/s]"
     ]
    },
    {
     "name": "stdout",
     "output_type": "stream",
     "text": [
      "Epoch 11/45, Loss: 72388.9176712913\n"
     ]
    },
    {
     "name": "stderr",
     "output_type": "stream",
     "text": [
      "100%|██████████| 348/348 [00:03<00:00, 110.70it/s]\n",
      "  4%|▍         | 15/348 [00:00<00:02, 146.19it/s]"
     ]
    },
    {
     "name": "stdout",
     "output_type": "stream",
     "text": [
      "Epoch 12/45, Loss: 72333.73001975575\n"
     ]
    },
    {
     "name": "stderr",
     "output_type": "stream",
     "text": [
      "100%|██████████| 348/348 [00:02<00:00, 128.11it/s]\n",
      "  3%|▎         | 12/348 [00:00<00:02, 112.76it/s]"
     ]
    },
    {
     "name": "stdout",
     "output_type": "stream",
     "text": [
      "Epoch 13/45, Loss: 72198.77703506645\n"
     ]
    },
    {
     "name": "stderr",
     "output_type": "stream",
     "text": [
      "100%|██████████| 348/348 [00:02<00:00, 123.03it/s]\n",
      "  4%|▍         | 14/348 [00:00<00:02, 138.81it/s]"
     ]
    },
    {
     "name": "stdout",
     "output_type": "stream",
     "text": [
      "Epoch 14/45, Loss: 72308.93390804598\n"
     ]
    },
    {
     "name": "stderr",
     "output_type": "stream",
     "text": [
      "100%|██████████| 348/348 [00:02<00:00, 123.51it/s]\n",
      "  4%|▍         | 14/348 [00:00<00:02, 138.66it/s]"
     ]
    },
    {
     "name": "stdout",
     "output_type": "stream",
     "text": [
      "Epoch 15/45, Loss: 72190.9849923671\n"
     ]
    },
    {
     "name": "stderr",
     "output_type": "stream",
     "text": [
      "100%|██████████| 348/348 [00:02<00:00, 121.59it/s]\n",
      "  4%|▎         | 13/348 [00:00<00:02, 123.15it/s]"
     ]
    },
    {
     "name": "stdout",
     "output_type": "stream",
     "text": [
      "Epoch 16/45, Loss: 72191.77224766523\n"
     ]
    },
    {
     "name": "stderr",
     "output_type": "stream",
     "text": [
      "100%|██████████| 348/348 [00:02<00:00, 125.56it/s]\n",
      "  4%|▍         | 14/348 [00:00<00:02, 136.24it/s]"
     ]
    },
    {
     "name": "stdout",
     "output_type": "stream",
     "text": [
      "Epoch 17/45, Loss: 71932.60324061602\n"
     ]
    },
    {
     "name": "stderr",
     "output_type": "stream",
     "text": [
      "100%|██████████| 348/348 [00:02<00:00, 124.55it/s]\n",
      "  4%|▎         | 13/348 [00:00<00:02, 129.35it/s]"
     ]
    },
    {
     "name": "stdout",
     "output_type": "stream",
     "text": [
      "Epoch 18/45, Loss: 59076.63571973779\n"
     ]
    },
    {
     "name": "stderr",
     "output_type": "stream",
     "text": [
      "100%|██████████| 348/348 [00:03<00:00, 114.08it/s]\n",
      "  3%|▎         | 10/348 [00:00<00:03, 99.23it/s]"
     ]
    },
    {
     "name": "stdout",
     "output_type": "stream",
     "text": [
      "Epoch 19/45, Loss: 50121.52703226024\n"
     ]
    },
    {
     "name": "stderr",
     "output_type": "stream",
     "text": [
      "100%|██████████| 348/348 [00:03<00:00, 114.89it/s]\n",
      "  3%|▎         | 12/348 [00:00<00:02, 112.92it/s]"
     ]
    },
    {
     "name": "stdout",
     "output_type": "stream",
     "text": [
      "Epoch 20/45, Loss: 48412.68560861171\n"
     ]
    },
    {
     "name": "stderr",
     "output_type": "stream",
     "text": [
      "100%|██████████| 348/348 [00:03<00:00, 114.46it/s]\n",
      "  4%|▎         | 13/348 [00:00<00:02, 126.91it/s]"
     ]
    },
    {
     "name": "stdout",
     "output_type": "stream",
     "text": [
      "Epoch 21/45, Loss: 43853.17237450611\n"
     ]
    },
    {
     "name": "stderr",
     "output_type": "stream",
     "text": [
      "100%|██████████| 348/348 [00:02<00:00, 126.91it/s]\n",
      "  3%|▎         | 12/348 [00:00<00:03, 111.68it/s]"
     ]
    },
    {
     "name": "stdout",
     "output_type": "stream",
     "text": [
      "Epoch 22/45, Loss: 35409.466092515264\n"
     ]
    },
    {
     "name": "stderr",
     "output_type": "stream",
     "text": [
      "100%|██████████| 348/348 [00:02<00:00, 122.36it/s]\n",
      "  3%|▎         | 12/348 [00:00<00:02, 119.71it/s]"
     ]
    },
    {
     "name": "stdout",
     "output_type": "stream",
     "text": [
      "Epoch 23/45, Loss: 31867.93105833558\n"
     ]
    },
    {
     "name": "stderr",
     "output_type": "stream",
     "text": [
      "100%|██████████| 348/348 [00:02<00:00, 124.83it/s]\n",
      "  3%|▎         | 12/348 [00:00<00:02, 118.66it/s]"
     ]
    },
    {
     "name": "stdout",
     "output_type": "stream",
     "text": [
      "Epoch 24/45, Loss: 31076.456461588543\n"
     ]
    },
    {
     "name": "stderr",
     "output_type": "stream",
     "text": [
      "100%|██████████| 348/348 [00:02<00:00, 127.03it/s]\n",
      "  5%|▍         | 16/348 [00:00<00:02, 159.36it/s]"
     ]
    },
    {
     "name": "stdout",
     "output_type": "stream",
     "text": [
      "Epoch 25/45, Loss: 29969.376836667117\n"
     ]
    },
    {
     "name": "stderr",
     "output_type": "stream",
     "text": [
      "100%|██████████| 348/348 [00:02<00:00, 126.42it/s]\n",
      "  4%|▎         | 13/348 [00:00<00:02, 124.67it/s]"
     ]
    },
    {
     "name": "stdout",
     "output_type": "stream",
     "text": [
      "Epoch 26/45, Loss: 26497.447934907057\n"
     ]
    },
    {
     "name": "stderr",
     "output_type": "stream",
     "text": [
      "100%|██████████| 348/348 [00:02<00:00, 116.07it/s]\n",
      "  3%|▎         | 11/348 [00:00<00:03, 106.61it/s]"
     ]
    },
    {
     "name": "stdout",
     "output_type": "stream",
     "text": [
      "Epoch 27/45, Loss: 24865.780627020475\n"
     ]
    },
    {
     "name": "stderr",
     "output_type": "stream",
     "text": [
      "100%|██████████| 348/348 [00:02<00:00, 124.48it/s]\n",
      "  4%|▍         | 14/348 [00:00<00:02, 132.28it/s]"
     ]
    },
    {
     "name": "stdout",
     "output_type": "stream",
     "text": [
      "Epoch 28/45, Loss: 23329.897668597343\n"
     ]
    },
    {
     "name": "stderr",
     "output_type": "stream",
     "text": [
      "100%|██████████| 348/348 [00:03<00:00, 107.58it/s]\n",
      "  3%|▎         | 10/348 [00:00<00:03, 91.67it/s]"
     ]
    },
    {
     "name": "stdout",
     "output_type": "stream",
     "text": [
      "Epoch 29/45, Loss: 22034.886004568518\n"
     ]
    },
    {
     "name": "stderr",
     "output_type": "stream",
     "text": [
      "100%|██████████| 348/348 [00:03<00:00, 114.89it/s]\n",
      "  4%|▍         | 15/348 [00:00<00:02, 143.33it/s]"
     ]
    },
    {
     "name": "stdout",
     "output_type": "stream",
     "text": [
      "Epoch 30/45, Loss: 22457.488748484644\n"
     ]
    },
    {
     "name": "stderr",
     "output_type": "stream",
     "text": [
      "100%|██████████| 348/348 [00:02<00:00, 119.38it/s]\n",
      "  4%|▍         | 14/348 [00:00<00:02, 128.08it/s]"
     ]
    },
    {
     "name": "stdout",
     "output_type": "stream",
     "text": [
      "Epoch 31/45, Loss: 21384.162072894218\n"
     ]
    },
    {
     "name": "stderr",
     "output_type": "stream",
     "text": [
      "100%|██████████| 348/348 [00:02<00:00, 123.12it/s]\n",
      "  4%|▍         | 14/348 [00:00<00:02, 128.58it/s]"
     ]
    },
    {
     "name": "stdout",
     "output_type": "stream",
     "text": [
      "Epoch 32/45, Loss: 21290.03899234465\n"
     ]
    },
    {
     "name": "stderr",
     "output_type": "stream",
     "text": [
      "100%|██████████| 348/348 [00:02<00:00, 118.56it/s]\n",
      "  4%|▍         | 15/348 [00:00<00:02, 138.91it/s]"
     ]
    },
    {
     "name": "stdout",
     "output_type": "stream",
     "text": [
      "Epoch 33/45, Loss: 20927.51368169675\n"
     ]
    },
    {
     "name": "stderr",
     "output_type": "stream",
     "text": [
      "100%|██████████| 348/348 [00:02<00:00, 123.09it/s]\n",
      "  3%|▎         | 10/348 [00:00<00:03, 95.24it/s]"
     ]
    },
    {
     "name": "stdout",
     "output_type": "stream",
     "text": [
      "Epoch 34/45, Loss: 20650.46649380388\n"
     ]
    },
    {
     "name": "stderr",
     "output_type": "stream",
     "text": [
      "100%|██████████| 348/348 [00:02<00:00, 123.35it/s]\n",
      "  4%|▎         | 13/348 [00:00<00:02, 121.76it/s]"
     ]
    },
    {
     "name": "stdout",
     "output_type": "stream",
     "text": [
      "Epoch 35/45, Loss: 19381.615680563038\n"
     ]
    },
    {
     "name": "stderr",
     "output_type": "stream",
     "text": [
      "100%|██████████| 348/348 [00:02<00:00, 130.40it/s]\n",
      "  4%|▎         | 13/348 [00:00<00:02, 125.01it/s]"
     ]
    },
    {
     "name": "stdout",
     "output_type": "stream",
     "text": [
      "Epoch 36/45, Loss: 18412.423631690013\n"
     ]
    },
    {
     "name": "stderr",
     "output_type": "stream",
     "text": [
      "100%|██████████| 348/348 [00:03<00:00, 113.03it/s]\n",
      "  3%|▎         | 12/348 [00:00<00:02, 113.64it/s]"
     ]
    },
    {
     "name": "stdout",
     "output_type": "stream",
     "text": [
      "Epoch 37/45, Loss: 17704.828496823367\n"
     ]
    },
    {
     "name": "stderr",
     "output_type": "stream",
     "text": [
      "100%|██████████| 348/348 [00:02<00:00, 122.14it/s]\n",
      "  3%|▎         | 12/348 [00:00<00:02, 114.70it/s]"
     ]
    },
    {
     "name": "stdout",
     "output_type": "stream",
     "text": [
      "Epoch 38/45, Loss: 16988.912672722476\n"
     ]
    },
    {
     "name": "stderr",
     "output_type": "stream",
     "text": [
      "100%|██████████| 348/348 [00:03<00:00, 126.80it/s]\n",
      "  4%|▍         | 14/348 [00:00<00:02, 134.75it/s]"
     ]
    },
    {
     "name": "stdout",
     "output_type": "stream",
     "text": [
      "Epoch 39/45, Loss: 16169.010272848194\n"
     ]
    },
    {
     "name": "stderr",
     "output_type": "stream",
     "text": [
      "100%|██████████| 348/348 [00:02<00:00, 121.05it/s]\n",
      "  3%|▎         | 9/348 [00:00<00:03, 89.66it/s]"
     ]
    },
    {
     "name": "stdout",
     "output_type": "stream",
     "text": [
      "Epoch 40/45, Loss: 16297.816042845277\n"
     ]
    },
    {
     "name": "stderr",
     "output_type": "stream",
     "text": [
      "100%|██████████| 348/348 [00:02<00:00, 121.97it/s]\n",
      "  5%|▍         | 16/348 [00:00<00:02, 145.89it/s]"
     ]
    },
    {
     "name": "stdout",
     "output_type": "stream",
     "text": [
      "Epoch 41/45, Loss: 15096.0367305361\n"
     ]
    },
    {
     "name": "stderr",
     "output_type": "stream",
     "text": [
      "100%|██████████| 348/348 [00:03<00:00, 113.63it/s]\n",
      "  4%|▎         | 13/348 [00:00<00:02, 124.09it/s]"
     ]
    },
    {
     "name": "stdout",
     "output_type": "stream",
     "text": [
      "Epoch 42/45, Loss: 15502.403199645294\n"
     ]
    },
    {
     "name": "stderr",
     "output_type": "stream",
     "text": [
      "100%|██████████| 348/348 [00:02<00:00, 116.25it/s]\n",
      "  4%|▎         | 13/348 [00:00<00:02, 118.91it/s]"
     ]
    },
    {
     "name": "stdout",
     "output_type": "stream",
     "text": [
      "Epoch 43/45, Loss: 15488.863663596669\n"
     ]
    },
    {
     "name": "stderr",
     "output_type": "stream",
     "text": [
      "100%|██████████| 348/348 [00:03<00:00, 113.39it/s]\n",
      "  5%|▍         | 16/348 [00:00<00:02, 157.61it/s]"
     ]
    },
    {
     "name": "stdout",
     "output_type": "stream",
     "text": [
      "Epoch 44/45, Loss: 16069.593757015535\n"
     ]
    },
    {
     "name": "stderr",
     "output_type": "stream",
     "text": [
      "100%|██████████| 348/348 [00:03<00:00, 115.42it/s]"
     ]
    },
    {
     "name": "stdout",
     "output_type": "stream",
     "text": [
      "Epoch 45/45, Loss: 16027.550850002244\n"
     ]
    },
    {
     "name": "stderr",
     "output_type": "stream",
     "text": [
      "\n"
     ]
    }
   ],
   "source": [
    "#CVAE 1\n",
    "import torch\n",
    "import torch.nn as nn\n",
    "import torch.optim as optim\n",
    "from torch.utils.data import DataLoader, TensorDataset\n",
    "import numpy as np\n",
    "\n",
    "# Define your C-VAE architecture with deeper layers and LeakyReLU\n",
    "class CVAE(nn.Module):\n",
    "    def __init__(self, input_dim, conditional_dim, latent_dim):\n",
    "        super(CVAE, self).__init__()\n",
    "        # Encoder for data\n",
    "        self.data_encoder = nn.Sequential(\n",
    "            nn.Linear(input_dim, 256),\n",
    "            nn.LeakyReLU(0.2),\n",
    "            nn.Linear(256, 128),\n",
    "            nn.LeakyReLU(0.2),\n",
    "            nn.Linear(128, 64),\n",
    "            nn.LeakyReLU(0.2),\n",
    "            nn.Linear(64, 32),\n",
    "            nn.LeakyReLU(0.2),\n",
    "            nn.Linear(32, latent_dim * 2)  # Two times latent_dim for mean and variance\n",
    "        )\n",
    "        \n",
    "        # Encoder for conditional input\n",
    "        self.condition_encoder = nn.Sequential(\n",
    "            nn.Linear(conditional_dim, 128),\n",
    "            nn.LeakyReLU(0.2),\n",
    "            nn.Linear(128, 64),\n",
    "            nn.LeakyReLU(0.2),\n",
    "            nn.Linear(64, 32),\n",
    "            nn.LeakyReLU(0.2),\n",
    "            nn.Linear(32, latent_dim * 2)  # Two times latent_dim for mean and variance\n",
    "        )\n",
    "        \n",
    "        self.decoder = nn.Sequential(\n",
    "            nn.Linear(latent_dim, 32),\n",
    "            nn.LeakyReLU(0.2),\n",
    "            nn.Linear(32, 64),\n",
    "            nn.LeakyReLU(0.2),\n",
    "            nn.Linear(64, 128),\n",
    "            nn.LeakyReLU(0.2),\n",
    "            nn.Linear(128, 256),\n",
    "            nn.LeakyReLU(0.2),\n",
    "            nn.Linear(256, input_dim)\n",
    "        )\n",
    "    \n",
    "    def reparameterize(self, mu, logvar):\n",
    "        std = torch.exp(0.5 * logvar)\n",
    "        eps = torch.randn_like(std)\n",
    "        return mu + eps * std\n",
    "\n",
    "    def forward(self, x, c):\n",
    "        data_z_params = self.data_encoder(x)\n",
    "        condition_z_params = self.condition_encoder(c)\n",
    "        \n",
    "        data_mu, data_logvar = torch.chunk(data_z_params, 2, dim=1)\n",
    "        condition_mu, condition_logvar = torch.chunk(condition_z_params, 2, dim=1)\n",
    "        \n",
    "        # Combine the latent variables from both encoders\n",
    "        combined_mu = data_mu + condition_mu\n",
    "        combined_logvar = data_logvar + condition_logvar\n",
    "        \n",
    "        z = self.reparameterize(combined_mu, combined_logvar)\n",
    "        decoded = self.decoder(z)\n",
    "        return decoded, combined_mu, combined_logvar\n",
    "\n",
    "# Define training parameters\n",
    "input_dim = 42\n",
    "conditional_dim = 175\n",
    "latent_dim = 8\n",
    "batch_size = 32\n",
    "epochs = 45\n",
    "learning_rate = 0.001\n",
    "\n",
    "\n",
    "\n",
    "# Initialize the C-VAE model\n",
    "model = CVAE(input_dim, conditional_dim, latent_dim)\n",
    "\n",
    "# Define the loss function (MSE loss + KL divergence)\n",
    "def loss_function(recon_x, x, mu, logvar):\n",
    "    mse_loss = nn.MSELoss(reduction='sum')(recon_x, x)\n",
    "    kl_div = -0.5 * torch.sum(1 + logvar - mu.pow(2) - logvar.exp())\n",
    "    return mse_loss + kl_div\n",
    "\n",
    "# Initialize optimizer\n",
    "optimizer = optim.Adam(model.parameters(), lr=learning_rate)\n",
    "\n",
    "for epoch in range(epochs):\n",
    "    total_loss = 0\n",
    "    for i in tqdm(range(0, len(target_poses), 32), leave = True, position = 0): \n",
    "        data_point =  target_poses[i:i + 32]\n",
    "        data_point = np.array(data_point).reshape(-1,42)\n",
    "        cond_point =  target_angle_vector[i:i + 32]\n",
    "        cond_point = np.array(cond_point).reshape(-1,175)\n",
    "#         print(data_point.shape)\n",
    "        data_point = torch.tensor(data_point, dtype=torch.float32)\n",
    "        cond_point = torch.tensor(cond_point, dtype=torch.float32)\n",
    "        optimizer.zero_grad()\n",
    "        recon_batch, mu, logvar = model(data_point, cond_point)\n",
    "        loss = loss_function(recon_batch, data_point, mu, logvar)\n",
    "        loss.backward()\n",
    "        \n",
    "        optimizer.step()\n",
    "        total_loss += loss.item()\n",
    "        optimizer.step()\n",
    "    print(f'Epoch {epoch+1}/{epochs}, Loss: {total_loss / (348*32)}')\n",
    "#         \n",
    "    \n",
    "#     # Print training loss for each epoch\n",
    "#     print(f'Epoch [{epoch+1}/{epochs}], Loss: {loss.item()/len(dataloader.dataset):.4f}')\n",
    "\n",
    "# After training, you can use the model for anomaly detection\n",
    "# Calculate reconstruction loss for each data point and set a threshold\n",
    "\n",
    "# For anomaly detection on a new data point (x_test) with conditional input (c_test):\n",
    "# x_test_tensor = torch.Tensor(x_test)\n",
    "# c_test_tensor = torch.Tensor(c_test)\n",
    "# recon_test, _, _ = model(x_test_tensor, c_test_tensor)\n",
    "# reconstruction_loss = nn.MSELoss(reduction='sum')(recon_test, x_test_tensor)\n",
    "\n",
    "# Set a threshold and classify as normal/anomaly based on the reconstruction loss\n",
    "\n",
    "# Remember to adjust the code as needed for your specific dataset and requirements.\n"
   ]
  },
  {
   "cell_type": "code",
   "execution_count": null,
   "metadata": {},
   "outputs": [],
   "source": []
  },
  {
   "cell_type": "code",
   "execution_count": 22,
   "metadata": {},
   "outputs": [
    {
     "name": "stderr",
     "output_type": "stream",
     "text": [
      "0it [00:00, ?it/s]/opt/conda/lib/python3.6/site-packages/ipykernel_launcher.py:13: UserWarning: To copy construct from a tensor, it is recommended to use sourceTensor.clone().detach() or sourceTensor.clone().detach().requires_grad_(True), rather than torch.tensor(sourceTensor).\n",
      "  del sys.path[0]\n",
      "25it [00:12,  2.11it/s]/opt/conda/lib/python3.6/site-packages/ipykernel_launcher.py:9: RuntimeWarning: invalid value encountered in true_divide\n",
      "  if __name__ == '__main__':\n",
      "348it [02:42,  2.88it/s]\n"
     ]
    }
   ],
   "source": [
    "anomalous_vae = []\n",
    "errors = []\n",
    "for i, (index, x, label, weight, meta) in tqdm(enumerate(val_target_loader), position=0, leave=True):\n",
    "    data_points = np.array(meta['keypoint2d']).astype(int).reshape(-1, 42)\n",
    "    data_points = torch.tensor(data_points, dtype=torch.float32)\n",
    "    pose = np.array(meta['keypoint2d']).astype(int)\n",
    "#     dk = pose.reshape(-1,32)\n",
    "#     target_poses.extend(dk)\n",
    "    angle_vector = get_angle_vector(pose, joint_names, kinematic_tree)\n",
    "    cond_point =  angle_vector\n",
    "    cond_point = np.array(cond_point).reshape(-1,175)\n",
    "#         print(data_point.shape)\n",
    "    data_points = torch.tensor(data_points, dtype=torch.float32)\n",
    "    cond_point = torch.tensor(cond_point, dtype=torch.float32)\n",
    "    optimizer.zero_grad()\n",
    "    recon_batch, mu, logvar = model(data_points, cond_point)\n",
    "#     print(recon_batch.shape)\n",
    "#     print(data_points.shape,recon_batch.shape)\n",
    "    for dj in range(len(data_points)):\n",
    "        reconstruction_error = torch.norm(data_points[dj] - recon_batch[dj]).item()\n",
    "#         print(reconstruction_error)\n",
    "        errors.append(reconstruction_error)\n",
    "        anomalous_vae.append(index[dj])\n",
    "\n",
    "x = np.array(errors)\n",
    "y = np.array(anomalous_vae)\n",
    "\n",
    "np.save('indexes_cvae1__H3d_train_poses_REAL_SEP_ENCODING.npy',y)\n",
    "np.save('recons_errors_cvae1_H3D_train_REAL_SEP_ENCODING.npy',x)\n",
    "torch.save(model, './cvae1_model_H3D_train')\n"
   ]
  },
  {
   "cell_type": "code",
   "execution_count": 16,
   "metadata": {},
   "outputs": [
    {
     "data": {
      "text/plain": [
       "(2000, 32)"
      ]
     },
     "execution_count": 16,
     "metadata": {},
     "output_type": "execute_result"
    }
   ],
   "source": [
    "target_poses.shape"
   ]
  },
  {
   "cell_type": "code",
   "execution_count": 34,
   "metadata": {},
   "outputs": [
    {
     "data": {
      "text/plain": [
       "(2000, 66)"
      ]
     },
     "execution_count": 34,
     "metadata": {},
     "output_type": "execute_result"
    }
   ],
   "source": [
    "target_angle_vector = np.array(target_angle_vector)\n",
    "target_angle_vector.shape"
   ]
  },
  {
   "cell_type": "code",
   "execution_count": 16,
   "metadata": {},
   "outputs": [
    {
     "data": {
      "text/plain": [
       "torch.Size([32, 32])"
      ]
     },
     "execution_count": 16,
     "metadata": {},
     "output_type": "execute_result"
    }
   ],
   "source": [
    "data_point.shape"
   ]
  },
  {
   "cell_type": "code",
   "execution_count": 24,
   "metadata": {},
   "outputs": [
    {
     "name": "stderr",
     "output_type": "stream",
     "text": [
      "100%|██████████| 348/348 [00:16<00:00, 17.19it/s]\n",
      "  1%|          | 2/348 [00:00<00:22, 15.70it/s]"
     ]
    },
    {
     "name": "stdout",
     "output_type": "stream",
     "text": [
      "Epoch 1/45, Loss: 0.025418210951290255\n"
     ]
    },
    {
     "name": "stderr",
     "output_type": "stream",
     "text": [
      "100%|██████████| 348/348 [00:18<00:00, 21.46it/s]\n",
      "  1%|          | 3/348 [00:00<00:13, 25.29it/s]"
     ]
    },
    {
     "name": "stdout",
     "output_type": "stream",
     "text": [
      "Epoch 2/45, Loss: 0.00882271812136831\n"
     ]
    },
    {
     "name": "stderr",
     "output_type": "stream",
     "text": [
      "100%|██████████| 348/348 [00:17<00:00, 19.40it/s]\n",
      "  1%|          | 2/348 [00:00<00:20, 17.04it/s]"
     ]
    },
    {
     "name": "stdout",
     "output_type": "stream",
     "text": [
      "Epoch 3/45, Loss: 0.00848007127348248\n"
     ]
    },
    {
     "name": "stderr",
     "output_type": "stream",
     "text": [
      "100%|██████████| 348/348 [00:17<00:00, 20.04it/s]\n",
      "  1%|          | 3/348 [00:00<00:16, 20.61it/s]"
     ]
    },
    {
     "name": "stdout",
     "output_type": "stream",
     "text": [
      "Epoch 4/45, Loss: 0.008363592235007506\n"
     ]
    },
    {
     "name": "stderr",
     "output_type": "stream",
     "text": [
      "100%|██████████| 348/348 [00:17<00:00, 19.94it/s]\n",
      "  1%|          | 3/348 [00:00<00:16, 20.99it/s]"
     ]
    },
    {
     "name": "stdout",
     "output_type": "stream",
     "text": [
      "Epoch 5/45, Loss: 0.008310723772818416\n"
     ]
    },
    {
     "name": "stderr",
     "output_type": "stream",
     "text": [
      "100%|██████████| 348/348 [00:17<00:00, 19.67it/s]\n",
      "  1%|          | 3/348 [00:00<00:13, 26.29it/s]"
     ]
    },
    {
     "name": "stdout",
     "output_type": "stream",
     "text": [
      "Epoch 6/45, Loss: 0.00828368673582786\n"
     ]
    },
    {
     "name": "stderr",
     "output_type": "stream",
     "text": [
      "100%|██████████| 348/348 [00:17<00:00, 19.42it/s]\n",
      "  1%|          | 2/348 [00:00<00:20, 16.63it/s]"
     ]
    },
    {
     "name": "stdout",
     "output_type": "stream",
     "text": [
      "Epoch 7/45, Loss: 0.008247237774307957\n"
     ]
    },
    {
     "name": "stderr",
     "output_type": "stream",
     "text": [
      "100%|██████████| 348/348 [00:18<00:00, 18.68it/s]\n",
      "  1%|          | 2/348 [00:00<00:21, 15.93it/s]"
     ]
    },
    {
     "name": "stdout",
     "output_type": "stream",
     "text": [
      "Epoch 8/45, Loss: 0.008242105164607966\n"
     ]
    },
    {
     "name": "stderr",
     "output_type": "stream",
     "text": [
      "100%|██████████| 348/348 [00:18<00:00, 16.14it/s]\n",
      "  1%|          | 3/348 [00:00<00:17, 19.76it/s]"
     ]
    },
    {
     "name": "stdout",
     "output_type": "stream",
     "text": [
      "Epoch 9/45, Loss: 0.008226558788219231\n"
     ]
    },
    {
     "name": "stderr",
     "output_type": "stream",
     "text": [
      "100%|██████████| 348/348 [00:18<00:00, 18.71it/s]\n",
      "  1%|          | 3/348 [00:00<00:16, 20.54it/s]"
     ]
    },
    {
     "name": "stdout",
     "output_type": "stream",
     "text": [
      "Epoch 10/45, Loss: 0.008214361680639458\n"
     ]
    },
    {
     "name": "stderr",
     "output_type": "stream",
     "text": [
      "100%|██████████| 348/348 [00:17<00:00, 20.05it/s]\n",
      "  1%|          | 2/348 [00:00<00:20, 16.86it/s]"
     ]
    },
    {
     "name": "stdout",
     "output_type": "stream",
     "text": [
      "Epoch 11/45, Loss: 0.008209319530996954\n"
     ]
    },
    {
     "name": "stderr",
     "output_type": "stream",
     "text": [
      "100%|██████████| 348/348 [00:18<00:00, 15.49it/s]\n",
      "  1%|          | 2/348 [00:00<00:28, 12.18it/s]"
     ]
    },
    {
     "name": "stdout",
     "output_type": "stream",
     "text": [
      "Epoch 12/45, Loss: 0.008200524382871287\n"
     ]
    },
    {
     "name": "stderr",
     "output_type": "stream",
     "text": [
      "100%|██████████| 348/348 [00:18<00:00, 18.77it/s]\n",
      "  1%|          | 3/348 [00:00<00:16, 21.11it/s]"
     ]
    },
    {
     "name": "stdout",
     "output_type": "stream",
     "text": [
      "Epoch 13/45, Loss: 0.008195808802292436\n"
     ]
    },
    {
     "name": "stderr",
     "output_type": "stream",
     "text": [
      "100%|██████████| 348/348 [00:18<00:00, 19.05it/s]\n",
      "  1%|          | 3/348 [00:00<00:15, 22.06it/s]"
     ]
    },
    {
     "name": "stdout",
     "output_type": "stream",
     "text": [
      "Epoch 14/45, Loss: 0.008186628188317021\n"
     ]
    },
    {
     "name": "stderr",
     "output_type": "stream",
     "text": [
      "100%|██████████| 348/348 [00:17<00:00, 15.47it/s]\n",
      "  0%|          | 1/348 [00:00<00:42,  8.25it/s]"
     ]
    },
    {
     "name": "stdout",
     "output_type": "stream",
     "text": [
      "Epoch 15/45, Loss: 0.00818835794604544\n"
     ]
    },
    {
     "name": "stderr",
     "output_type": "stream",
     "text": [
      "100%|██████████| 348/348 [00:18<00:00, 19.13it/s]\n",
      "  1%|          | 3/348 [00:00<00:13, 26.01it/s]"
     ]
    },
    {
     "name": "stdout",
     "output_type": "stream",
     "text": [
      "Epoch 16/45, Loss: 0.0081765816102725\n"
     ]
    },
    {
     "name": "stderr",
     "output_type": "stream",
     "text": [
      "100%|██████████| 348/348 [00:17<00:00, 19.66it/s]\n",
      "  1%|          | 2/348 [00:00<00:18, 18.59it/s]"
     ]
    },
    {
     "name": "stdout",
     "output_type": "stream",
     "text": [
      "Epoch 17/45, Loss: 0.008175271564570052\n"
     ]
    },
    {
     "name": "stderr",
     "output_type": "stream",
     "text": [
      "100%|██████████| 348/348 [00:18<00:00, 22.31it/s]\n",
      "  1%|          | 2/348 [00:00<00:17, 19.49it/s]"
     ]
    },
    {
     "name": "stdout",
     "output_type": "stream",
     "text": [
      "Epoch 18/45, Loss: 0.00817194799277075\n"
     ]
    },
    {
     "name": "stderr",
     "output_type": "stream",
     "text": [
      "100%|██████████| 348/348 [00:18<00:00, 19.21it/s]\n",
      "  1%|          | 2/348 [00:00<00:21, 16.27it/s]"
     ]
    },
    {
     "name": "stdout",
     "output_type": "stream",
     "text": [
      "Epoch 19/45, Loss: 0.008169260878255055\n"
     ]
    },
    {
     "name": "stderr",
     "output_type": "stream",
     "text": [
      "100%|██████████| 348/348 [00:17<00:00, 19.72it/s]\n",
      "  1%|          | 3/348 [00:00<00:16, 20.73it/s]"
     ]
    },
    {
     "name": "stdout",
     "output_type": "stream",
     "text": [
      "Epoch 20/45, Loss: 0.008166223737657413\n"
     ]
    },
    {
     "name": "stderr",
     "output_type": "stream",
     "text": [
      "100%|██████████| 348/348 [00:18<00:00, 19.07it/s]\n",
      "  1%|          | 2/348 [00:00<00:22, 15.38it/s]"
     ]
    },
    {
     "name": "stdout",
     "output_type": "stream",
     "text": [
      "Epoch 21/45, Loss: 0.008163392618726725\n"
     ]
    },
    {
     "name": "stderr",
     "output_type": "stream",
     "text": [
      "100%|██████████| 348/348 [00:19<00:00, 18.74it/s]\n",
      "  1%|          | 3/348 [00:00<00:19, 18.11it/s]"
     ]
    },
    {
     "name": "stdout",
     "output_type": "stream",
     "text": [
      "Epoch 22/45, Loss: 0.00816019257830306\n"
     ]
    },
    {
     "name": "stderr",
     "output_type": "stream",
     "text": [
      "100%|██████████| 348/348 [00:19<00:00, 18.22it/s]\n",
      "  1%|          | 2/348 [00:00<00:19, 17.37it/s]"
     ]
    },
    {
     "name": "stdout",
     "output_type": "stream",
     "text": [
      "Epoch 23/45, Loss: 0.008157669273526248\n"
     ]
    },
    {
     "name": "stderr",
     "output_type": "stream",
     "text": [
      "100%|██████████| 348/348 [00:19<00:00, 17.46it/s]\n",
      "  1%|          | 2/348 [00:00<00:22, 15.71it/s]"
     ]
    },
    {
     "name": "stdout",
     "output_type": "stream",
     "text": [
      "Epoch 24/45, Loss: 0.008155627937548548\n"
     ]
    },
    {
     "name": "stderr",
     "output_type": "stream",
     "text": [
      "100%|██████████| 348/348 [00:19<00:00, 14.11it/s]\n",
      "  1%|          | 2/348 [00:00<00:17, 19.71it/s]"
     ]
    },
    {
     "name": "stdout",
     "output_type": "stream",
     "text": [
      "Epoch 25/45, Loss: 0.00815264193940608\n"
     ]
    },
    {
     "name": "stderr",
     "output_type": "stream",
     "text": [
      "100%|██████████| 348/348 [00:19<00:00, 16.86it/s]\n",
      "  1%|          | 2/348 [00:00<00:20, 16.94it/s]"
     ]
    },
    {
     "name": "stdout",
     "output_type": "stream",
     "text": [
      "Epoch 26/45, Loss: 0.008151658003796535\n"
     ]
    },
    {
     "name": "stderr",
     "output_type": "stream",
     "text": [
      "100%|██████████| 348/348 [00:19<00:00, 17.56it/s]\n",
      "  1%|          | 3/348 [00:00<00:15, 21.95it/s]"
     ]
    },
    {
     "name": "stdout",
     "output_type": "stream",
     "text": [
      "Epoch 27/45, Loss: 0.00814884438998355\n"
     ]
    },
    {
     "name": "stderr",
     "output_type": "stream",
     "text": [
      "100%|██████████| 348/348 [00:18<00:00, 19.15it/s]\n",
      "  1%|          | 2/348 [00:00<00:17, 19.98it/s]"
     ]
    },
    {
     "name": "stdout",
     "output_type": "stream",
     "text": [
      "Epoch 28/45, Loss: 0.008147561760758445\n"
     ]
    },
    {
     "name": "stderr",
     "output_type": "stream",
     "text": [
      "100%|██████████| 348/348 [00:18<00:00, 17.37it/s]\n",
      "  1%|          | 3/348 [00:00<00:14, 23.98it/s]"
     ]
    },
    {
     "name": "stdout",
     "output_type": "stream",
     "text": [
      "Epoch 29/45, Loss: 0.008146314936604393\n"
     ]
    },
    {
     "name": "stderr",
     "output_type": "stream",
     "text": [
      "100%|██████████| 348/348 [00:17<00:00, 19.44it/s]\n",
      "  1%|          | 3/348 [00:00<00:16, 20.68it/s]"
     ]
    },
    {
     "name": "stdout",
     "output_type": "stream",
     "text": [
      "Epoch 30/45, Loss: 0.008145288136070487\n"
     ]
    },
    {
     "name": "stderr",
     "output_type": "stream",
     "text": [
      "100%|██████████| 348/348 [00:17<00:00, 17.13it/s]\n",
      "  1%|          | 2/348 [00:00<00:18, 18.23it/s]"
     ]
    },
    {
     "name": "stdout",
     "output_type": "stream",
     "text": [
      "Epoch 31/45, Loss: 0.008142919401402703\n"
     ]
    },
    {
     "name": "stderr",
     "output_type": "stream",
     "text": [
      "100%|██████████| 348/348 [00:18<00:00, 18.67it/s]\n",
      "  1%|          | 3/348 [00:00<00:17, 20.29it/s]"
     ]
    },
    {
     "name": "stdout",
     "output_type": "stream",
     "text": [
      "Epoch 32/45, Loss: 0.008142104253290627\n"
     ]
    },
    {
     "name": "stderr",
     "output_type": "stream",
     "text": [
      "100%|██████████| 348/348 [00:18<00:00, 19.02it/s]\n",
      "  1%|          | 2/348 [00:00<00:19, 17.56it/s]"
     ]
    },
    {
     "name": "stdout",
     "output_type": "stream",
     "text": [
      "Epoch 33/45, Loss: 0.008141956297445229\n"
     ]
    },
    {
     "name": "stderr",
     "output_type": "stream",
     "text": [
      "100%|██████████| 348/348 [00:18<00:00, 18.98it/s]\n",
      "  1%|          | 3/348 [00:00<00:14, 24.05it/s]"
     ]
    },
    {
     "name": "stdout",
     "output_type": "stream",
     "text": [
      "Epoch 34/45, Loss: 0.00814003086830864\n"
     ]
    },
    {
     "name": "stderr",
     "output_type": "stream",
     "text": [
      "100%|██████████| 348/348 [00:18<00:00, 19.04it/s]\n",
      "  1%|          | 2/348 [00:00<00:17, 19.24it/s]"
     ]
    },
    {
     "name": "stdout",
     "output_type": "stream",
     "text": [
      "Epoch 35/45, Loss: 0.008139208802182612\n"
     ]
    },
    {
     "name": "stderr",
     "output_type": "stream",
     "text": [
      "100%|██████████| 348/348 [00:18<00:00, 16.87it/s]\n",
      "  1%|          | 2/348 [00:00<00:23, 15.04it/s]"
     ]
    },
    {
     "name": "stdout",
     "output_type": "stream",
     "text": [
      "Epoch 36/45, Loss: 0.008138689739715266\n"
     ]
    },
    {
     "name": "stderr",
     "output_type": "stream",
     "text": [
      "100%|██████████| 348/348 [00:18<00:00, 18.81it/s]\n",
      "  1%|          | 3/348 [00:00<00:13, 25.37it/s]"
     ]
    },
    {
     "name": "stdout",
     "output_type": "stream",
     "text": [
      "Epoch 37/45, Loss: 0.008137416007564586\n"
     ]
    },
    {
     "name": "stderr",
     "output_type": "stream",
     "text": [
      "100%|██████████| 348/348 [00:18<00:00, 18.40it/s]\n",
      "  1%|          | 2/348 [00:00<00:19, 17.60it/s]"
     ]
    },
    {
     "name": "stdout",
     "output_type": "stream",
     "text": [
      "Epoch 38/45, Loss: 0.008135412311202836\n"
     ]
    },
    {
     "name": "stderr",
     "output_type": "stream",
     "text": [
      "100%|██████████| 348/348 [00:17<00:00, 20.47it/s]\n",
      "  1%|          | 2/348 [00:00<00:17, 19.55it/s]"
     ]
    },
    {
     "name": "stdout",
     "output_type": "stream",
     "text": [
      "Epoch 39/45, Loss: 0.008135499028574633\n"
     ]
    },
    {
     "name": "stderr",
     "output_type": "stream",
     "text": [
      "100%|██████████| 348/348 [00:18<00:00, 18.78it/s]\n",
      "  1%|          | 3/348 [00:00<00:13, 25.37it/s]"
     ]
    },
    {
     "name": "stdout",
     "output_type": "stream",
     "text": [
      "Epoch 40/45, Loss: 0.008134457492804819\n"
     ]
    },
    {
     "name": "stderr",
     "output_type": "stream",
     "text": [
      "100%|██████████| 348/348 [00:18<00:00, 20.42it/s]\n",
      "  1%|          | 2/348 [00:00<00:18, 18.27it/s]"
     ]
    },
    {
     "name": "stdout",
     "output_type": "stream",
     "text": [
      "Epoch 41/45, Loss: 0.00813301131343362\n"
     ]
    },
    {
     "name": "stderr",
     "output_type": "stream",
     "text": [
      "100%|██████████| 348/348 [00:18<00:00, 20.14it/s]\n",
      "  1%|          | 3/348 [00:00<00:19, 17.86it/s]"
     ]
    },
    {
     "name": "stdout",
     "output_type": "stream",
     "text": [
      "Epoch 42/45, Loss: 0.008133086561889056\n"
     ]
    },
    {
     "name": "stderr",
     "output_type": "stream",
     "text": [
      "100%|██████████| 348/348 [00:18<00:00, 20.29it/s]\n",
      "  1%|          | 2/348 [00:00<00:18, 18.30it/s]"
     ]
    },
    {
     "name": "stdout",
     "output_type": "stream",
     "text": [
      "Epoch 43/45, Loss: 0.008131841680666581\n"
     ]
    },
    {
     "name": "stderr",
     "output_type": "stream",
     "text": [
      "100%|██████████| 348/348 [00:18<00:00, 19.33it/s]\n",
      "  1%|          | 3/348 [00:00<00:15, 22.07it/s]"
     ]
    },
    {
     "name": "stdout",
     "output_type": "stream",
     "text": [
      "Epoch 44/45, Loss: 0.008130874309485414\n"
     ]
    },
    {
     "name": "stderr",
     "output_type": "stream",
     "text": [
      "100%|██████████| 348/348 [00:18<00:00, 15.60it/s]"
     ]
    },
    {
     "name": "stdout",
     "output_type": "stream",
     "text": [
      "Epoch 45/45, Loss: 0.008130883211912266\n"
     ]
    },
    {
     "name": "stderr",
     "output_type": "stream",
     "text": [
      "\n"
     ]
    }
   ],
   "source": [
    "#CVAE4 normlized\n",
    "#CVAE5 unnormalized\n",
    "class Encoder(nn.Module):\n",
    "    def __init__(self, input_dim, latent_dim):\n",
    "        super(Encoder, self).__init__()\n",
    "\n",
    "        self.encoder = nn.Sequential(\n",
    "            nn.Linear(input_dim+conditional_dim, 512),\n",
    "            nn.Linear(512, 256),\n",
    "            nn.ReLU(),\n",
    "            nn.Linear(256, 128),\n",
    "            nn.ReLU(),\n",
    "            nn.Linear(128, 64),\n",
    "            nn.ReLU(),\n",
    "            nn.Linear(64, 32)\n",
    "        )\n",
    "\n",
    "        self.fc_mu = nn.Linear(32, latent_dim)\n",
    "        self.fc_logvar = nn.Linear(32, latent_dim)\n",
    "\n",
    "    def forward(self, x):\n",
    "        x = self.encoder(x)\n",
    "        mu = self.fc_mu(x)\n",
    "        logvar = self.fc_logvar(x)\n",
    "        return mu, logvar\n",
    "\n",
    "class Decoder(nn.Module):\n",
    "    def __init__(self, latent_dim, input_dim):\n",
    "        super(Decoder, self).__init__()\n",
    "\n",
    "        self.decoder = nn.Sequential(\n",
    "            nn.Linear(latent_dim, 64),\n",
    "            nn.ReLU(),\n",
    "            nn.Linear(64, 128),\n",
    "            nn.ReLU(),\n",
    "            nn.Linear(128, 256),\n",
    "            nn.ReLU(),\n",
    "            nn.Linear(256,512),\n",
    "            nn.ReLU(),\n",
    "            nn.Linear(512, input_dim+conditional_dim),\n",
    "        )\n",
    "\n",
    "    def forward(self, x):\n",
    "        x = self.decoder(x)\n",
    "        return x\n",
    "\n",
    "class VAE(nn.Module):\n",
    "    def __init__(self, input_dim, latent_dim):\n",
    "        super(VAE, self).__init__()\n",
    "\n",
    "        self.encoder = Encoder(input_dim, latent_dim)\n",
    "        self.decoder = Decoder(latent_dim, input_dim)\n",
    "\n",
    "    def forward(self, x):\n",
    "        mu, logvar = self.encoder(x)\n",
    "        z = self.reparameterize(mu, logvar)\n",
    "        x_reconstructed = self.decoder(z)\n",
    "        return x_reconstructed, mu, logvar\n",
    "\n",
    "    def reparameterize(self, mu, logvar):\n",
    "        std = torch.exp(0.5 * logvar)\n",
    "        eps = torch.randn_like(std)\n",
    "        return mu + eps * std\n",
    "\n",
    "# Hyperparameters\n",
    "input_dim = 42\n",
    "latent_dim = 16\n",
    "conditional_dim = 175\n",
    "lr = 1e-4\n",
    "batch_size = 32\n",
    "epochs = 45\n",
    "\n",
    "# Create the VAE model\n",
    "vae = VAE(input_dim, latent_dim)\n",
    "\n",
    "# Define loss function\n",
    "def loss_function(reconstructed_x, x, mu, logvar):\n",
    "    reconstruction_loss = nn.functional.mse_loss(reconstructed_x, x, reduction='sum')\n",
    "    KLD = -0.5 * torch.sum(1 + logvar - mu.pow(2) - logvar.exp())\n",
    "    return reconstruction_loss + KLD\n",
    "\n",
    "optimizer = optim.Adam(vae.parameters(), lr=lr)\n",
    "\n",
    "for epoch in range(epochs):\n",
    "    total_loss = 0\n",
    "    for i in tqdm(range(0, len(target_poses), 32), leave = True, position = 0): \n",
    "        data_point =  target_poses[i:i + 32]\n",
    "        data_point = np.array(data_point).reshape(-1,42)\n",
    "        cond_point =  target_angle_vector[i:i + 32]\n",
    "        cond_point = np.array(cond_point).reshape(-1,175)\n",
    "#         print(data_point.shape)\n",
    "        norm1 = data_point / np.linalg.norm(data_point)\n",
    "        norm2= cond_point /  np.linalg.norm(cond_point)\n",
    "        x = np.concatenate((norm1,norm2), axis = 1)\n",
    "#         data_point = torch.tensor(data_point, dtype=torch.float32)\n",
    "#         cond_point = torch.tensor(cond_point, dtype=torch.float32)\n",
    "        x = torch.tensor(x, dtype=torch.float32)\n",
    "        \n",
    "#         x = torch.cat((data_point,cond_point),axis = 1)\n",
    "#         print(x.shape)\n",
    "        optimizer.zero_grad()\n",
    "        recon_batch, mu, logvar = vae(x)\n",
    "        loss = loss_function(recon_batch, x, mu, logvar)\n",
    "        loss.backward()\n",
    "        \n",
    "        optimizer.step()\n",
    "        total_loss += loss.item()\n",
    "        optimizer.step()\n",
    "    print(f'Epoch {epoch+1}/{epochs}, Loss: {total_loss  / (32*348)}')"
   ]
  },
  {
   "cell_type": "code",
   "execution_count": 28,
   "metadata": {},
   "outputs": [
    {
     "name": "stderr",
     "output_type": "stream",
     "text": [
      "24it [00:11,  2.13it/s]/opt/conda/lib/python3.6/site-packages/ipykernel_launcher.py:9: RuntimeWarning: invalid value encountered in true_divide\n",
      "  if __name__ == '__main__':\n",
      "348it [02:41,  2.73it/s]\n"
     ]
    }
   ],
   "source": [
    "anomalous_vae = []\n",
    "errors = []\n",
    "for i, (index, x, label, weight, meta) in tqdm(enumerate(val_target_loader), position=0, leave=True):\n",
    "    data_points = np.array(meta['keypoint2d']).astype(int).reshape(-1, 42)\n",
    "\n",
    "    pose = np.array(meta['keypoint2d']).astype(int)\n",
    "\n",
    "    angle_vector = get_angle_vector(pose, joint_names, kinematic_tree)\n",
    "    cond_point = np.array(angle_vector).reshape(-1,175)\n",
    "    norm1 = data_points /  np.linalg.norm(data_point)\n",
    "    norm2= cond_point / np.linalg.norm(cond_point)\n",
    "    x = np.concatenate((norm1,norm2), axis = 1)\n",
    "    data_pointx = torch.tensor(x, dtype=torch.float32)\n",
    "    recon_batch, mu, logvar = vae(data_pointx)\n",
    "#     print(recon_batch.shape)\n",
    "#     print(data_pointx.shape,recon_batch.shape)\n",
    "    for dj in range(len(data_pointx)):\n",
    "        reconstruction_error = torch.norm(data_pointx[dj] - recon_batch[dj]).item()\n",
    "#         print(reconstruction_error)\n",
    "        errors.append(reconstruction_error)\n",
    "        anomalous_vae.append(index[dj])\n",
    "\n",
    "x = np.array(errors)\n",
    "y = np.array(anomalous_vae)\n",
    "\n",
    "np.save('indexes_cvae4_REAL_H3D_TRAIN.npy',y)\n",
    "np.save('recons_errors_cvae4_REAL_H3D_TRAIN_VAE.npy',x)\n",
    "torch.save(vae, './cvae4_model_H3D_train')"
   ]
  },
  {
   "cell_type": "code",
   "execution_count": 14,
   "metadata": {},
   "outputs": [
    {
     "name": "stderr",
     "output_type": "stream",
     "text": [
      "  0%|          | 0/100 [00:00<?, ?it/s]/opt/conda/lib/python3.6/site-packages/ipykernel_launcher.py:119: UserWarning: To copy construct from a tensor, it is recommended to use sourceTensor.clone().detach() or sourceTensor.clone().detach().requires_grad_(True), rather than torch.tensor(sourceTensor).\n",
      "100%|██████████| 100/100 [00:03<00:00, 31.23it/s]\n",
      "  4%|▍         | 4/100 [00:00<00:02, 33.88it/s]"
     ]
    },
    {
     "name": "stdout",
     "output_type": "stream",
     "text": [
      "Epoch 1/60, Loss: 428.2804072648287\n"
     ]
    },
    {
     "name": "stderr",
     "output_type": "stream",
     "text": [
      "100%|██████████| 100/100 [00:03<00:00, 31.89it/s]\n",
      "  4%|▍         | 4/100 [00:00<00:03, 30.95it/s]"
     ]
    },
    {
     "name": "stdout",
     "output_type": "stream",
     "text": [
      "Epoch 2/60, Loss: 111.28387950360775\n"
     ]
    },
    {
     "name": "stderr",
     "output_type": "stream",
     "text": [
      "100%|██████████| 100/100 [00:03<00:00, 31.66it/s]\n",
      "  4%|▍         | 4/100 [00:00<00:02, 34.81it/s]"
     ]
    },
    {
     "name": "stdout",
     "output_type": "stream",
     "text": [
      "Epoch 3/60, Loss: 102.84012034535408\n"
     ]
    },
    {
     "name": "stderr",
     "output_type": "stream",
     "text": [
      "100%|██████████| 100/100 [00:03<00:00, 31.23it/s]\n",
      "  3%|▎         | 3/100 [00:00<00:03, 28.99it/s]"
     ]
    },
    {
     "name": "stdout",
     "output_type": "stream",
     "text": [
      "Epoch 4/60, Loss: 100.88254377245903\n"
     ]
    },
    {
     "name": "stderr",
     "output_type": "stream",
     "text": [
      "100%|██████████| 100/100 [00:03<00:00, 30.00it/s]\n",
      "  3%|▎         | 3/100 [00:00<00:03, 29.05it/s]"
     ]
    },
    {
     "name": "stdout",
     "output_type": "stream",
     "text": [
      "Epoch 5/60, Loss: 100.14758370816708\n"
     ]
    },
    {
     "name": "stderr",
     "output_type": "stream",
     "text": [
      "100%|██████████| 100/100 [00:03<00:00, 29.66it/s]\n",
      "  3%|▎         | 3/100 [00:00<00:03, 29.52it/s]"
     ]
    },
    {
     "name": "stdout",
     "output_type": "stream",
     "text": [
      "Epoch 6/60, Loss: 99.33579541742802\n"
     ]
    },
    {
     "name": "stderr",
     "output_type": "stream",
     "text": [
      "100%|██████████| 100/100 [00:03<00:00, 30.36it/s]\n",
      "  4%|▍         | 4/100 [00:00<00:03, 31.92it/s]"
     ]
    },
    {
     "name": "stdout",
     "output_type": "stream",
     "text": [
      "Epoch 7/60, Loss: 99.13544148206711\n"
     ]
    },
    {
     "name": "stderr",
     "output_type": "stream",
     "text": [
      "100%|██████████| 100/100 [00:03<00:00, 30.51it/s]\n",
      "  4%|▍         | 4/100 [00:00<00:03, 30.89it/s]"
     ]
    },
    {
     "name": "stdout",
     "output_type": "stream",
     "text": [
      "Epoch 8/60, Loss: 98.90423238277435\n"
     ]
    },
    {
     "name": "stderr",
     "output_type": "stream",
     "text": [
      "100%|██████████| 100/100 [00:03<00:00, 30.61it/s]\n",
      "  3%|▎         | 3/100 [00:00<00:03, 29.29it/s]"
     ]
    },
    {
     "name": "stdout",
     "output_type": "stream",
     "text": [
      "Epoch 9/60, Loss: 98.81696745753288\n"
     ]
    },
    {
     "name": "stderr",
     "output_type": "stream",
     "text": [
      "100%|██████████| 100/100 [00:03<00:00, 30.72it/s]\n",
      "  4%|▍         | 4/100 [00:00<00:02, 33.47it/s]"
     ]
    },
    {
     "name": "stdout",
     "output_type": "stream",
     "text": [
      "Epoch 10/60, Loss: 98.33909533917904\n"
     ]
    },
    {
     "name": "stderr",
     "output_type": "stream",
     "text": [
      "100%|██████████| 100/100 [00:03<00:00, 30.08it/s]\n",
      "  3%|▎         | 3/100 [00:00<00:03, 29.21it/s]"
     ]
    },
    {
     "name": "stdout",
     "output_type": "stream",
     "text": [
      "Epoch 11/60, Loss: 98.50233256816864\n"
     ]
    },
    {
     "name": "stderr",
     "output_type": "stream",
     "text": [
      "100%|██████████| 100/100 [00:03<00:00, 30.02it/s]\n",
      "  3%|▎         | 3/100 [00:00<00:03, 28.12it/s]"
     ]
    },
    {
     "name": "stdout",
     "output_type": "stream",
     "text": [
      "Epoch 12/60, Loss: 98.16908590495586\n"
     ]
    },
    {
     "name": "stderr",
     "output_type": "stream",
     "text": [
      "100%|██████████| 100/100 [00:03<00:00, 30.45it/s]\n",
      "  4%|▍         | 4/100 [00:00<00:03, 30.19it/s]"
     ]
    },
    {
     "name": "stdout",
     "output_type": "stream",
     "text": [
      "Epoch 13/60, Loss: 98.0307675153017\n"
     ]
    },
    {
     "name": "stderr",
     "output_type": "stream",
     "text": [
      "100%|██████████| 100/100 [00:03<00:00, 29.80it/s]\n",
      "  3%|▎         | 3/100 [00:00<00:03, 29.76it/s]"
     ]
    },
    {
     "name": "stdout",
     "output_type": "stream",
     "text": [
      "Epoch 14/60, Loss: 97.97344624996185\n"
     ]
    },
    {
     "name": "stderr",
     "output_type": "stream",
     "text": [
      "100%|██████████| 100/100 [00:03<00:00, 29.88it/s]\n",
      "  4%|▍         | 4/100 [00:00<00:03, 30.41it/s]"
     ]
    },
    {
     "name": "stdout",
     "output_type": "stream",
     "text": [
      "Epoch 15/60, Loss: 97.85287119448185\n"
     ]
    },
    {
     "name": "stderr",
     "output_type": "stream",
     "text": [
      "100%|██████████| 100/100 [00:03<00:00, 29.99it/s]\n",
      "  4%|▍         | 4/100 [00:00<00:03, 30.28it/s]"
     ]
    },
    {
     "name": "stdout",
     "output_type": "stream",
     "text": [
      "Epoch 16/60, Loss: 97.72349275648594\n"
     ]
    },
    {
     "name": "stderr",
     "output_type": "stream",
     "text": [
      "100%|██████████| 100/100 [00:03<00:00, 29.86it/s]\n",
      "  3%|▎         | 3/100 [00:00<00:03, 29.78it/s]"
     ]
    },
    {
     "name": "stdout",
     "output_type": "stream",
     "text": [
      "Epoch 17/60, Loss: 97.788615077734\n"
     ]
    },
    {
     "name": "stderr",
     "output_type": "stream",
     "text": [
      "100%|██████████| 100/100 [00:03<00:00, 29.90it/s]\n",
      "  4%|▍         | 4/100 [00:00<00:03, 30.89it/s]"
     ]
    },
    {
     "name": "stdout",
     "output_type": "stream",
     "text": [
      "Epoch 18/60, Loss: 97.64132753014565\n"
     ]
    },
    {
     "name": "stderr",
     "output_type": "stream",
     "text": [
      "100%|██████████| 100/100 [00:03<00:00, 30.24it/s]\n",
      "  4%|▍         | 4/100 [00:00<00:02, 32.01it/s]"
     ]
    },
    {
     "name": "stdout",
     "output_type": "stream",
     "text": [
      "Epoch 19/60, Loss: 97.54331417381763\n"
     ]
    },
    {
     "name": "stderr",
     "output_type": "stream",
     "text": [
      "100%|██████████| 100/100 [00:03<00:00, 29.46it/s]\n",
      "  4%|▍         | 4/100 [00:00<00:03, 31.85it/s]"
     ]
    },
    {
     "name": "stdout",
     "output_type": "stream",
     "text": [
      "Epoch 20/60, Loss: 97.48954340815544\n"
     ]
    },
    {
     "name": "stderr",
     "output_type": "stream",
     "text": [
      "100%|██████████| 100/100 [00:03<00:00, 30.00it/s]\n",
      "  3%|▎         | 3/100 [00:00<00:03, 29.29it/s]"
     ]
    },
    {
     "name": "stdout",
     "output_type": "stream",
     "text": [
      "Epoch 21/60, Loss: 97.37530745565891\n"
     ]
    },
    {
     "name": "stderr",
     "output_type": "stream",
     "text": [
      "100%|██████████| 100/100 [00:03<00:00, 29.35it/s]\n",
      "  4%|▍         | 4/100 [00:00<00:03, 30.19it/s]"
     ]
    },
    {
     "name": "stdout",
     "output_type": "stream",
     "text": [
      "Epoch 22/60, Loss: 97.38034971058369\n"
     ]
    },
    {
     "name": "stderr",
     "output_type": "stream",
     "text": [
      "100%|██████████| 100/100 [00:03<00:00, 29.67it/s]\n",
      "  4%|▍         | 4/100 [00:00<00:03, 31.10it/s]"
     ]
    },
    {
     "name": "stdout",
     "output_type": "stream",
     "text": [
      "Epoch 23/60, Loss: 97.2968689352274\n"
     ]
    },
    {
     "name": "stderr",
     "output_type": "stream",
     "text": [
      "100%|██████████| 100/100 [00:03<00:00, 29.50it/s]\n",
      "  3%|▎         | 3/100 [00:00<00:03, 28.13it/s]"
     ]
    },
    {
     "name": "stdout",
     "output_type": "stream",
     "text": [
      "Epoch 24/60, Loss: 97.26071372628212\n"
     ]
    },
    {
     "name": "stderr",
     "output_type": "stream",
     "text": [
      "100%|██████████| 100/100 [00:03<00:00, 29.89it/s]\n",
      "  4%|▍         | 4/100 [00:00<00:03, 30.43it/s]"
     ]
    },
    {
     "name": "stdout",
     "output_type": "stream",
     "text": [
      "Epoch 25/60, Loss: 97.13450878858566\n"
     ]
    },
    {
     "name": "stderr",
     "output_type": "stream",
     "text": [
      "100%|██████████| 100/100 [00:03<00:00, 29.76it/s]\n",
      "  3%|▎         | 3/100 [00:00<00:03, 29.80it/s]"
     ]
    },
    {
     "name": "stdout",
     "output_type": "stream",
     "text": [
      "Epoch 26/60, Loss: 97.19515718519688\n"
     ]
    },
    {
     "name": "stderr",
     "output_type": "stream",
     "text": [
      "100%|██████████| 100/100 [00:03<00:00, 30.01it/s]\n",
      "  3%|▎         | 3/100 [00:00<00:03, 28.12it/s]"
     ]
    },
    {
     "name": "stdout",
     "output_type": "stream",
     "text": [
      "Epoch 27/60, Loss: 97.04275138676167\n"
     ]
    },
    {
     "name": "stderr",
     "output_type": "stream",
     "text": [
      "100%|██████████| 100/100 [00:03<00:00, 29.50it/s]\n",
      "  3%|▎         | 3/100 [00:00<00:03, 28.15it/s]"
     ]
    },
    {
     "name": "stdout",
     "output_type": "stream",
     "text": [
      "Epoch 28/60, Loss: 97.0811153948307\n"
     ]
    },
    {
     "name": "stderr",
     "output_type": "stream",
     "text": [
      "100%|██████████| 100/100 [00:03<00:00, 29.36it/s]\n",
      "  3%|▎         | 3/100 [00:00<00:03, 29.67it/s]"
     ]
    },
    {
     "name": "stdout",
     "output_type": "stream",
     "text": [
      "Epoch 29/60, Loss: 96.99986904859543\n"
     ]
    },
    {
     "name": "stderr",
     "output_type": "stream",
     "text": [
      "100%|██████████| 100/100 [00:03<00:00, 29.93it/s]\n",
      "  4%|▍         | 4/100 [00:00<00:03, 30.81it/s]"
     ]
    },
    {
     "name": "stdout",
     "output_type": "stream",
     "text": [
      "Epoch 30/60, Loss: 96.94952420890331\n"
     ]
    },
    {
     "name": "stderr",
     "output_type": "stream",
     "text": [
      "100%|██████████| 100/100 [00:03<00:00, 29.76it/s]\n",
      "  4%|▍         | 4/100 [00:00<00:03, 31.09it/s]"
     ]
    },
    {
     "name": "stdout",
     "output_type": "stream",
     "text": [
      "Epoch 31/60, Loss: 96.87974378466606\n"
     ]
    },
    {
     "name": "stderr",
     "output_type": "stream",
     "text": [
      "100%|██████████| 100/100 [00:03<00:00, 30.56it/s]\n",
      "  3%|▎         | 3/100 [00:00<00:03, 27.07it/s]"
     ]
    },
    {
     "name": "stdout",
     "output_type": "stream",
     "text": [
      "Epoch 32/60, Loss: 96.88805870711803\n"
     ]
    },
    {
     "name": "stderr",
     "output_type": "stream",
     "text": [
      "100%|██████████| 100/100 [00:03<00:00, 29.24it/s]\n",
      "  4%|▍         | 4/100 [00:00<00:03, 30.91it/s]"
     ]
    },
    {
     "name": "stdout",
     "output_type": "stream",
     "text": [
      "Epoch 33/60, Loss: 96.91487573087215\n"
     ]
    },
    {
     "name": "stderr",
     "output_type": "stream",
     "text": [
      "100%|██████████| 100/100 [00:03<00:00, 29.98it/s]\n",
      "  4%|▍         | 4/100 [00:00<00:03, 30.53it/s]"
     ]
    },
    {
     "name": "stdout",
     "output_type": "stream",
     "text": [
      "Epoch 34/60, Loss: 96.8613275885582\n"
     ]
    },
    {
     "name": "stderr",
     "output_type": "stream",
     "text": [
      "100%|██████████| 100/100 [00:03<00:00, 29.51it/s]\n",
      "  4%|▍         | 4/100 [00:00<00:03, 30.12it/s]"
     ]
    },
    {
     "name": "stdout",
     "output_type": "stream",
     "text": [
      "Epoch 35/60, Loss: 96.80099956691265\n"
     ]
    },
    {
     "name": "stderr",
     "output_type": "stream",
     "text": [
      "100%|██████████| 100/100 [00:03<00:00, 28.38it/s]\n",
      "  4%|▍         | 4/100 [00:00<00:03, 30.24it/s]"
     ]
    },
    {
     "name": "stdout",
     "output_type": "stream",
     "text": [
      "Epoch 36/60, Loss: 96.79961539804935\n"
     ]
    },
    {
     "name": "stderr",
     "output_type": "stream",
     "text": [
      "100%|██████████| 100/100 [00:03<00:00, 30.30it/s]\n",
      "  4%|▍         | 4/100 [00:00<00:03, 31.83it/s]"
     ]
    },
    {
     "name": "stdout",
     "output_type": "stream",
     "text": [
      "Epoch 37/60, Loss: 96.70073918998241\n"
     ]
    },
    {
     "name": "stderr",
     "output_type": "stream",
     "text": [
      "100%|██████████| 100/100 [00:03<00:00, 29.85it/s]\n",
      "  3%|▎         | 3/100 [00:00<00:03, 29.79it/s]"
     ]
    },
    {
     "name": "stdout",
     "output_type": "stream",
     "text": [
      "Epoch 38/60, Loss: 96.73332519829273\n"
     ]
    },
    {
     "name": "stderr",
     "output_type": "stream",
     "text": [
      "100%|██████████| 100/100 [00:03<00:00, 27.92it/s]\n",
      "  3%|▎         | 3/100 [00:00<00:03, 27.23it/s]"
     ]
    },
    {
     "name": "stdout",
     "output_type": "stream",
     "text": [
      "Epoch 39/60, Loss: 96.6686463356018\n"
     ]
    },
    {
     "name": "stderr",
     "output_type": "stream",
     "text": [
      "100%|██████████| 100/100 [00:03<00:00, 28.50it/s]\n",
      "  3%|▎         | 3/100 [00:00<00:03, 29.74it/s]"
     ]
    },
    {
     "name": "stdout",
     "output_type": "stream",
     "text": [
      "Epoch 40/60, Loss: 96.6882398724556\n"
     ]
    },
    {
     "name": "stderr",
     "output_type": "stream",
     "text": [
      "100%|██████████| 100/100 [00:03<00:00, 29.26it/s]\n",
      "  4%|▍         | 4/100 [00:00<00:03, 30.12it/s]"
     ]
    },
    {
     "name": "stdout",
     "output_type": "stream",
     "text": [
      "Epoch 41/60, Loss: 96.70707911252975\n"
     ]
    },
    {
     "name": "stderr",
     "output_type": "stream",
     "text": [
      "100%|██████████| 100/100 [00:03<00:00, 29.43it/s]\n",
      "  3%|▎         | 3/100 [00:00<00:03, 29.06it/s]"
     ]
    },
    {
     "name": "stdout",
     "output_type": "stream",
     "text": [
      "Epoch 42/60, Loss: 96.67452283203602\n"
     ]
    },
    {
     "name": "stderr",
     "output_type": "stream",
     "text": [
      "100%|██████████| 100/100 [00:03<00:00, 28.58it/s]\n",
      "  4%|▍         | 4/100 [00:00<00:02, 32.48it/s]"
     ]
    },
    {
     "name": "stdout",
     "output_type": "stream",
     "text": [
      "Epoch 43/60, Loss: 96.61987528204918\n"
     ]
    },
    {
     "name": "stderr",
     "output_type": "stream",
     "text": [
      "100%|██████████| 100/100 [00:03<00:00, 29.53it/s]\n",
      "  3%|▎         | 3/100 [00:00<00:03, 28.42it/s]"
     ]
    },
    {
     "name": "stdout",
     "output_type": "stream",
     "text": [
      "Epoch 44/60, Loss: 96.61012664437294\n"
     ]
    },
    {
     "name": "stderr",
     "output_type": "stream",
     "text": [
      "100%|██████████| 100/100 [00:03<00:00, 29.49it/s]\n",
      "  4%|▍         | 4/100 [00:00<00:03, 30.70it/s]"
     ]
    },
    {
     "name": "stdout",
     "output_type": "stream",
     "text": [
      "Epoch 45/60, Loss: 96.59136936068535\n"
     ]
    },
    {
     "name": "stderr",
     "output_type": "stream",
     "text": [
      "100%|██████████| 100/100 [00:03<00:00, 29.03it/s]\n",
      "  3%|▎         | 3/100 [00:00<00:03, 29.88it/s]"
     ]
    },
    {
     "name": "stdout",
     "output_type": "stream",
     "text": [
      "Epoch 46/60, Loss: 96.58826246857643\n"
     ]
    },
    {
     "name": "stderr",
     "output_type": "stream",
     "text": [
      "100%|██████████| 100/100 [00:03<00:00, 29.16it/s]\n",
      "  3%|▎         | 3/100 [00:00<00:03, 29.14it/s]"
     ]
    },
    {
     "name": "stdout",
     "output_type": "stream",
     "text": [
      "Epoch 47/60, Loss: 96.53074465692043\n"
     ]
    },
    {
     "name": "stderr",
     "output_type": "stream",
     "text": [
      "100%|██████████| 100/100 [00:03<00:00, 29.53it/s]\n",
      "  3%|▎         | 3/100 [00:00<00:03, 29.87it/s]"
     ]
    },
    {
     "name": "stdout",
     "output_type": "stream",
     "text": [
      "Epoch 48/60, Loss: 96.57838597893715\n"
     ]
    },
    {
     "name": "stderr",
     "output_type": "stream",
     "text": [
      "100%|██████████| 100/100 [00:03<00:00, 29.32it/s]\n",
      "  3%|▎         | 3/100 [00:00<00:03, 26.70it/s]"
     ]
    },
    {
     "name": "stdout",
     "output_type": "stream",
     "text": [
      "Epoch 49/60, Loss: 96.5259075909853\n"
     ]
    },
    {
     "name": "stderr",
     "output_type": "stream",
     "text": [
      "100%|██████████| 100/100 [00:03<00:00, 28.97it/s]\n",
      "  4%|▍         | 4/100 [00:00<00:03, 30.23it/s]"
     ]
    },
    {
     "name": "stdout",
     "output_type": "stream",
     "text": [
      "Epoch 50/60, Loss: 96.52646780014038\n"
     ]
    },
    {
     "name": "stderr",
     "output_type": "stream",
     "text": [
      "100%|██████████| 100/100 [00:03<00:00, 28.27it/s]\n",
      "  4%|▍         | 4/100 [00:00<00:03, 30.05it/s]"
     ]
    },
    {
     "name": "stdout",
     "output_type": "stream",
     "text": [
      "Epoch 51/60, Loss: 96.51311382651329\n"
     ]
    },
    {
     "name": "stderr",
     "output_type": "stream",
     "text": [
      "100%|██████████| 100/100 [00:03<00:00, 28.97it/s]\n",
      "  3%|▎         | 3/100 [00:00<00:03, 29.46it/s]"
     ]
    },
    {
     "name": "stdout",
     "output_type": "stream",
     "text": [
      "Epoch 52/60, Loss: 96.51688374578953\n"
     ]
    },
    {
     "name": "stderr",
     "output_type": "stream",
     "text": [
      "100%|██████████| 100/100 [00:03<00:00, 28.39it/s]\n",
      "  3%|▎         | 3/100 [00:00<00:03, 26.78it/s]"
     ]
    },
    {
     "name": "stdout",
     "output_type": "stream",
     "text": [
      "Epoch 53/60, Loss: 96.49933882057667\n"
     ]
    },
    {
     "name": "stderr",
     "output_type": "stream",
     "text": [
      "100%|██████████| 100/100 [00:03<00:00, 28.87it/s]\n",
      "  4%|▍         | 4/100 [00:00<00:03, 31.92it/s]"
     ]
    },
    {
     "name": "stdout",
     "output_type": "stream",
     "text": [
      "Epoch 54/60, Loss: 96.5091797709465\n"
     ]
    },
    {
     "name": "stderr",
     "output_type": "stream",
     "text": [
      "100%|██████████| 100/100 [00:03<00:00, 29.17it/s]\n",
      "  3%|▎         | 3/100 [00:00<00:03, 29.86it/s]"
     ]
    },
    {
     "name": "stdout",
     "output_type": "stream",
     "text": [
      "Epoch 55/60, Loss: 96.46620586514473\n"
     ]
    },
    {
     "name": "stderr",
     "output_type": "stream",
     "text": [
      "100%|██████████| 100/100 [00:03<00:00, 29.32it/s]\n",
      "  4%|▍         | 4/100 [00:00<00:02, 32.65it/s]"
     ]
    },
    {
     "name": "stdout",
     "output_type": "stream",
     "text": [
      "Epoch 56/60, Loss: 96.46866843104362\n"
     ]
    },
    {
     "name": "stderr",
     "output_type": "stream",
     "text": [
      "100%|██████████| 100/100 [00:03<00:00, 29.65it/s]\n",
      "  3%|▎         | 3/100 [00:00<00:03, 29.93it/s]"
     ]
    },
    {
     "name": "stdout",
     "output_type": "stream",
     "text": [
      "Epoch 57/60, Loss: 96.43979489803314\n"
     ]
    },
    {
     "name": "stderr",
     "output_type": "stream",
     "text": [
      "100%|██████████| 100/100 [00:03<00:00, 28.82it/s]\n",
      "  3%|▎         | 3/100 [00:00<00:03, 28.70it/s]"
     ]
    },
    {
     "name": "stdout",
     "output_type": "stream",
     "text": [
      "Epoch 58/60, Loss: 96.43570363521576\n"
     ]
    },
    {
     "name": "stderr",
     "output_type": "stream",
     "text": [
      "100%|██████████| 100/100 [00:03<00:00, 27.34it/s]\n",
      "  3%|▎         | 3/100 [00:00<00:03, 28.53it/s]"
     ]
    },
    {
     "name": "stdout",
     "output_type": "stream",
     "text": [
      "Epoch 59/60, Loss: 96.44628167152405\n"
     ]
    },
    {
     "name": "stderr",
     "output_type": "stream",
     "text": [
      "100%|██████████| 100/100 [00:03<00:00, 28.79it/s]"
     ]
    },
    {
     "name": "stdout",
     "output_type": "stream",
     "text": [
      "Epoch 60/60, Loss: 96.44049122929573\n"
     ]
    },
    {
     "name": "stderr",
     "output_type": "stream",
     "text": [
      "\n"
     ]
    }
   ],
   "source": [
    "#CVAE2 normalized beofre concat, producing complete\n",
    "#CVAE3 no normalize, producing complete\n",
    "#CVAE 6 reproducing only main input, normalized\n",
    "#CVAE 6.2 reproducing only main input, normalized, comparison also normalized\n",
    "#CVAE 7 reproducing only main input, unnormalized\n",
    "import torch\n",
    "import torch.nn as nn\n",
    "import torch.optim as optim\n",
    "from torch.utils.data import DataLoader, TensorDataset\n",
    "import numpy as np\n",
    "class Encoder(nn.Module):\n",
    "    def __init__(self, input_dim, latent_dim):\n",
    "        super(Encoder, self).__init__()\n",
    "\n",
    "        self.encoder = nn.Sequential(\n",
    "            nn.Linear(input_dim+conditional_dim, 512),\n",
    "            nn.Linear(512, 256),\n",
    "            nn.ReLU(),\n",
    "            nn.Linear(256, 128),\n",
    "            nn.ReLU(),\n",
    "            nn.Linear(128, 64),\n",
    "            nn.ReLU(),\n",
    "            nn.Linear(64, 32)\n",
    "        )\n",
    "\n",
    "        self.fc_mu = nn.Linear(32, latent_dim)\n",
    "        self.fc_logvar = nn.Linear(32, latent_dim)\n",
    "\n",
    "    def forward(self, x):\n",
    "        x = self.encoder(x)\n",
    "        mu = self.fc_mu(x)\n",
    "        logvar = self.fc_logvar(x)\n",
    "        return mu, logvar\n",
    "\n",
    "class Decoder(nn.Module):\n",
    "    def __init__(self, latent_dim, input_dim):\n",
    "        super(Decoder, self).__init__()\n",
    "\n",
    "        self.decoder = nn.Sequential(\n",
    "            nn.Linear(latent_dim, 64),\n",
    "            nn.ReLU(),\n",
    "            nn.Linear(64, 128),\n",
    "            nn.ReLU(),\n",
    "            nn.Linear(128, 256),\n",
    "            nn.ReLU(),\n",
    "            nn.Linear(256,512),\n",
    "            nn.ReLU(),\n",
    "            nn.Linear(512, input_dim + conditional_dim),\n",
    "        )\n",
    "\n",
    "    def forward(self, x):\n",
    "        x = self.decoder(x)\n",
    "        return x\n",
    "\n",
    "class VAE(nn.Module):\n",
    "    def __init__(self, input_dim, latent_dim,conditional_dim):\n",
    "        super(VAE, self).__init__()\n",
    "\n",
    "        self.encoder = Encoder(input_dim, latent_dim)\n",
    "        self.decoder = Decoder(latent_dim, input_dim)\n",
    "\n",
    "    def forward(self, x):\n",
    "        mu, logvar = self.encoder(x)\n",
    "        z = self.reparameterize(mu, logvar)\n",
    "        x_reconstructed = self.decoder(z)\n",
    "        return x_reconstructed, mu, logvar\n",
    "\n",
    "    def reparameterize(self, mu, logvar):\n",
    "        std = torch.exp(0.5 * logvar)\n",
    "        eps = torch.randn_like(std)\n",
    "        return mu + eps * std\n",
    "\n",
    "# Hyperparameters\n",
    "input_dim = 32\n",
    "latent_dim = 16\n",
    "conditional_dim = 66\n",
    "lr = 1e-4\n",
    "batch_size = 32\n",
    "epochs = 60\n",
    "\n",
    "# Create the VAE model\n",
    "vae = VAE(input_dim, latent_dim, conditional_dim)\n",
    "\n",
    "# Define loss function\n",
    "def loss_function(reconstructed_x, x, mu, logvar):\n",
    "    reconstruction_loss = nn.functional.mse_loss(reconstructed_x, x, reduction='sum')\n",
    "    KLD = -0.5 * torch.sum(1 + logvar - mu.pow(2) - logvar.exp())\n",
    "    return reconstruction_loss + KLD\n",
    "\n",
    "optimizer = optim.Adam(vae.parameters(), lr=lr)\n",
    "\n",
    "for epoch in range(epochs):\n",
    "    total_loss = 0\n",
    "    for i in tqdm(range(0, len(target_poses), 32), leave = True, position = 0): \n",
    "        data_point =  target_poses[i:i + 32]\n",
    "        data_point = np.array(data_point).reshape(-1,32)\n",
    "        cond_point =  target_angle_vector[i:i + 32]\n",
    "        cond_point = np.array(cond_point).reshape(-1,66)\n",
    "#         print(data_point.shape)\n",
    "#         data_point = torch.tensor(data_point, dtype=torch.float32)\n",
    "#         cond_point = torch.tensor(cond_point, dtype=torch.float32)\n",
    "        tox = []\n",
    "#         print(data_point.shape[0])\n",
    "        for fr in range(data_point.shape[0]):\n",
    "            norm1 = data_point[fr] / np.linalg.norm(data_point[fr])\n",
    "            norm2= cond_point[fr] / np.linalg.norm(cond_point[fr])\n",
    "#             norm1 = data_point[fr]\n",
    "#             norm2= cond_point[fr] \n",
    "            \n",
    "            x = np.concatenate((norm1,norm2))\n",
    "            tox.append(x)\n",
    "        tox = np.array(tox)\n",
    "#         tox = tox / np.linalg.norm(tox)\n",
    "        data_pointx = torch.tensor(tox, dtype=torch.float32)\n",
    "        optimizer.zero_grad()\n",
    "        recon_batch, mu, logvar = vae(data_pointx)\n",
    "#         print(recon_batch.shape)\n",
    "#         data_pointx = data_pointx\n",
    "        loss = loss_function(recon_batch, torch.tensor(data_pointx,dtype =torch.float32), mu, logvar)\n",
    "        loss.backward()\n",
    "        \n",
    "        optimizer.step()\n",
    "        total_loss += loss.item()\n",
    "        optimizer.step()\n",
    "    print(f'Epoch {epoch+1}/{epochs}, Loss: {total_loss*1000 / (32*100)}')"
   ]
  },
  {
   "cell_type": "code",
   "execution_count": 27,
   "metadata": {},
   "outputs": [],
   "source": [
    "import torch\n",
    "import torch.nn as nn\n",
    "import torch.optim as optim\n",
    "from torch.utils.data import DataLoader, TensorDataset\n",
    "import numpy as np\n",
    "class Encoder(nn.Module):\n",
    "    def __init__(self, input_dim, latent_dim):\n",
    "        super(Encoder, self).__init__()\n",
    "\n",
    "        self.encoder = nn.Sequential(\n",
    "            nn.Linear(input_dim+conditional_dim, 512),\n",
    "            nn.Linear(512, 256),\n",
    "            nn.ReLU(),\n",
    "            nn.Linear(256, 128),\n",
    "            nn.ReLU(),\n",
    "            nn.Linear(128, 64),\n",
    "            nn.ReLU(),\n",
    "            nn.Linear(64, 32)\n",
    "        )\n",
    "\n",
    "        self.fc_mu = nn.Linear(32, latent_dim)\n",
    "        self.fc_logvar = nn.Linear(32, latent_dim)\n",
    "\n",
    "    def forward(self, x):\n",
    "        x = self.encoder(x)\n",
    "        mu = self.fc_mu(x)\n",
    "        logvar = self.fc_logvar(x)\n",
    "        return mu, logvar\n",
    "\n",
    "class Decoder(nn.Module):\n",
    "    def __init__(self, latent_dim, input_dim):\n",
    "        super(Decoder, self).__init__()\n",
    "\n",
    "        self.decoder = nn.Sequential(\n",
    "            nn.Linear(latent_dim, 64),\n",
    "            nn.ReLU(),\n",
    "            nn.Linear(64, 128),\n",
    "            nn.ReLU(),\n",
    "            nn.Linear(128, 256),\n",
    "            nn.ReLU(),\n",
    "            nn.Linear(256,512),\n",
    "            nn.ReLU(),\n",
    "            nn.Linear(512, input_dim + conditional_dim),\n",
    "        )\n",
    "\n",
    "    def forward(self, x):\n",
    "        x = self.decoder(x)\n",
    "        return x\n",
    "\n",
    "class VAE(nn.Module):\n",
    "    def __init__(self, input_dim, latent_dim,conditional_dim):\n",
    "        super(VAE, self).__init__()\n",
    "\n",
    "        self.encoder = Encoder(input_dim, latent_dim)\n",
    "        self.decoder = Decoder(latent_dim, input_dim)\n",
    "\n",
    "    def forward(self, x):\n",
    "        mu, logvar = self.encoder(x)\n",
    "        z = self.reparameterize(mu, logvar)\n",
    "        x_reconstructed = self.decoder(z)\n",
    "        return x_reconstructed, mu, logvar\n",
    "\n",
    "    def reparameterize(self, mu, logvar):\n",
    "        std = torch.exp(0.5 * logvar)\n",
    "        eps = torch.randn_like(std)\n",
    "        return mu + eps * std\n",
    "\n",
    "# Hyperparameters\n",
    "input_dim = 32\n",
    "latent_dim = 16\n",
    "conditional_dim = 66\n",
    "lr = 1e-4\n",
    "batch_size = 32\n",
    "epochs = 60\n",
    "\n",
    "# Create the VAE model\n",
    "vae = VAE(input_dim, latent_dim, conditional_dim)\n",
    "vae = torch.load('./cvae2_model_LSP')"
   ]
  },
  {
   "cell_type": "code",
   "execution_count": null,
   "metadata": {},
   "outputs": [],
   "source": [
    "for i, (index, x, label, weight, meta) in tqdm(enumerate(val_target_loader), position=0, leave=True):\n",
    "    data_points = np.array(meta['keypoint2d']).astype(int).reshape(-1, 32)\n",
    "\n",
    "    pose = np.array(meta['keypoint2d']).astype(int)\n",
    "\n",
    "    angle_vector = get_angle_vector(pose, joint_names, kinematic_tree)\n",
    "    cond_point = np.array(angle_vector).reshape(-1,12)\n",
    "    tox = []\n",
    "\n",
    "    for fr in range(data_points.shape[0]):\n",
    "        norm1 = data_points[fr] / np.linalg.norm(data_points[fr])\n",
    "        norm2= cond_point[fr] / np.linalg.norm(cond_point[fr])\n",
    "        x = np.concatenate((norm1,norm2))\n",
    "        tox.append(x)\n",
    "    tox = np.array(tox)\n",
    "#         tox = tox / np.linalg.norm(tox)\n",
    "    data_pointx = torch.tensor(tox, dtype=torch.float32)\n",
    "    recon_batch, mu, logvar = vae(data_pointx)\n",
    "#     print(recon_batch.shape)\n",
    "#     data_points = data_points\n",
    "#     data_points = torch.tensor(data_points, dtype=torch.float32)\n",
    "#     print(data_points.shape,recon_batch.shape)\n",
    "    for dj in range(len(data_pointx)):\n",
    "#         w = np.linalg.norm(data_points[fr])\n",
    "        reconstruction_error = torch.norm(data_pointx[dj] - recon_batch[dj]).item()\n",
    "        if (reconstruction_error < 85):\n",
    "            image = visualize(tensor_to_image(x[dj]*0), meta['keypoint2d'][dj],  'test.png')\n",
    "            img2 =  visualize(tensor_to_image(x[dj]*0),reconstructed_data[:32].reshape(16,2).detach().numpy().astype(int) ,  'test.png')\n",
    "            print('hello')\n",
    "            print(reconstruction_error)\n",
    "            plt.imshow(image)\n",
    "            plt.show()\n",
    "            plt.imshow(img2)\n",
    "            plt.show()\n",
    "        \n",
    "#         print(reconstruction_error,recon_batch[dj].shape"
   ]
  },
  {
   "cell_type": "code",
   "execution_count": 1,
   "metadata": {},
   "outputs": [],
   "source": [
    "import torch\n",
    "import torch.nn as nn\n",
    "import torch.optim as optim\n",
    "from torch.utils.data import DataLoader, TensorDataset\n",
    "import numpy as np\n",
    "class Encoder(nn.Module):\n",
    "    def __init__(self, input_dim, latent_dim):\n",
    "        super(Encoder, self).__init__()\n",
    "\n",
    "        self.encoder = nn.Sequential(\n",
    "            nn.Linear(input_dim+conditional_dim, 512),\n",
    "            nn.Linear(512, 256),\n",
    "            nn.ReLU(),\n",
    "            nn.Linear(256, 128),\n",
    "            nn.ReLU(),\n",
    "            nn.Linear(128, 64),\n",
    "            nn.ReLU(),\n",
    "            nn.Linear(64, 32)\n",
    "        )\n",
    "\n",
    "        self.fc_mu = nn.Linear(32, latent_dim)\n",
    "        self.fc_logvar = nn.Linear(32, latent_dim)\n",
    "\n",
    "    def forward(self, x):\n",
    "        x = self.encoder(x)\n",
    "        mu = self.fc_mu(x)\n",
    "        logvar = self.fc_logvar(x)\n",
    "        return mu, logvar\n",
    "\n",
    "class Decoder(nn.Module):\n",
    "    def __init__(self, latent_dim, input_dim):\n",
    "        super(Decoder, self).__init__()\n",
    "\n",
    "        self.decoder = nn.Sequential(\n",
    "            nn.Linear(latent_dim, 64),\n",
    "            nn.ReLU(),\n",
    "            nn.Linear(64, 128),\n",
    "            nn.ReLU(),\n",
    "            nn.Linear(128, 256),\n",
    "            nn.ReLU(),\n",
    "            nn.Linear(256,512),\n",
    "            nn.ReLU(),\n",
    "            nn.Linear(512, input_dim + conditional_dim),\n",
    "        )\n",
    "\n",
    "    def forward(self, x):\n",
    "        x = self.decoder(x)\n",
    "        return x\n",
    "\n",
    "class VAE(nn.Module):\n",
    "    def __init__(self, input_dim, latent_dim,conditional_dim):\n",
    "        super(VAE, self).__init__()\n",
    "\n",
    "        self.encoder = Encoder(input_dim, latent_dim)\n",
    "        self.decoder = Decoder(latent_dim, input_dim)\n",
    "\n",
    "    def forward(self, x):\n",
    "        mu, logvar = self.encoder(x)\n",
    "        z = self.reparameterize(mu, logvar)\n",
    "        x_reconstructed = self.decoder(z)\n",
    "        return x_reconstructed, mu, logvar\n",
    "\n",
    "    def reparameterize(self, mu, logvar):\n",
    "        std = torch.exp(0.5 * logvar)\n",
    "        eps = torch.randn_like(std)\n",
    "        return mu + eps * std\n",
    "\n",
    "# Hyperparameters\n",
    "input_dim = 42\n",
    "latent_dim = 16\n",
    "conditional_dim = 175\n",
    "lr = 1e-4\n",
    "batch_size = 32\n",
    "epochs = 45\n",
    "\n",
    "# Create the VAE model\n",
    "vae = VAE(input_dim, latent_dim, conditional_dim)"
   ]
  },
  {
   "cell_type": "code",
   "execution_count": 2,
   "metadata": {},
   "outputs": [],
   "source": [
    "vae = torch.load('./cvae2_model_H3D_TRAIN')"
   ]
  },
  {
   "cell_type": "code",
   "execution_count": 57,
   "metadata": {},
   "outputs": [],
   "source": [
    "tut = list(np.load(\"./master_bins_surreal_anomaly_25.npy\",allow_pickle = True)) + tut"
   ]
  },
  {
   "cell_type": "code",
   "execution_count": 15,
   "metadata": {},
   "outputs": [
    {
     "name": "stderr",
     "output_type": "stream",
     "text": [
      "2it [00:00,  3.44it/s]/opt/conda/lib/python3.6/site-packages/ipykernel_launcher.py:9: RuntimeWarning: invalid value encountered in true_divide\n",
      "  if __name__ == '__main__':\n",
      "100it [00:18,  5.70it/s]\n"
     ]
    }
   ],
   "source": [
    "anomalous_vae = []\n",
    "errors = []\n",
    "for i, (index, x, label, weight, meta) in tqdm(enumerate(val_source_loader), position=0, leave=True):\n",
    "    data_points = np.array(meta['keypoint2d']).astype(int).reshape(-1, 32)\n",
    "\n",
    "    pose = np.array(meta['keypoint2d']).astype(int)\n",
    "\n",
    "    angle_vector = get_angle_vector(pose, joint_names, kinematic_tree)\n",
    "    cond_point = np.array(angle_vector).reshape(-1,66)\n",
    "    tox = []\n",
    "\n",
    "    for fr in range(data_points.shape[0]):\n",
    "        norm1 = data_points[fr] / np.linalg.norm(data_points[fr])\n",
    "        norm2= cond_point[fr] / np.linalg.norm(cond_point[fr])\n",
    "        x = np.concatenate((norm1,norm2))\n",
    "        tox.append(x)\n",
    "    tox = np.array(tox)\n",
    "#         tox = tox / np.linalg.norm(tox)\n",
    "    data_pointx = torch.tensor(tox, dtype=torch.float32)\n",
    "    recon_batch, mu, logvar = vae(data_pointx)\n",
    "#     print(recon_batch.shape)\n",
    "#     data_points = data_points\n",
    "#     data_points = torch.tensor(data_points, dtype=torch.float32)\n",
    "#     print(data_points.shape,recon_batch.shape)\n",
    "    for dj in range(len(data_pointx)):\n",
    "        reconstruction_error = torch.norm(data_pointx[dj] - recon_batch[dj]).item()\n",
    "#         print(reconstruction_error)\n",
    "        errors.append(reconstruction_error)\n",
    "        anomalous_vae.append(index[dj])\n",
    "\n",
    "x = np.array(errors)\n",
    "y = np.array(anomalous_vae)\n",
    "\n",
    "np.save('indexes_cvae2_SURREAL_mod_val.npy',y)\n",
    "np.save('recons_errors_cvae2_SURREAL_mod_val.npy',x)"
   ]
  },
  {
   "cell_type": "code",
   "execution_count": 39,
   "metadata": {},
   "outputs": [
    {
     "name": "stderr",
     "output_type": "stream",
     "text": [
      "33it [00:15,  2.04it/s]/opt/conda/lib/python3.6/site-packages/ipykernel_launcher.py:9: RuntimeWarning: invalid value encountered in true_divide\n",
      "  if __name__ == '__main__':\n",
      "348it [02:45,  2.78it/s]\n"
     ]
    }
   ],
   "source": [
    "anomalous_vae = []\n",
    "errors = []\n",
    "for i, (index, x, label, weight, meta) in tqdm(enumerate(val_target_loader), position=0, leave=True):\n",
    "    data_points = np.array(meta['keypoint2d']).astype(int).reshape(-1, 42)\n",
    "\n",
    "    pose = np.array(meta['keypoint2d']).astype(int)\n",
    "\n",
    "    angle_vector = get_angle_vector(pose, joint_names, kinematic_tree)\n",
    "    cond_point = np.array(angle_vector).reshape(-1,175)\n",
    "    tox = []\n",
    "\n",
    "    for fr in range(data_points.shape[0]):\n",
    "        norm1 = data_points[fr] / np.linalg.norm(data_points[fr])\n",
    "        norm2= cond_point[fr] / np.linalg.norm(cond_point[fr])\n",
    "        x = np.concatenate((norm1,norm2))\n",
    "        tox.append(x)\n",
    "    tox = np.array(tox)\n",
    "#         tox = tox / np.linalg.norm(tox)\n",
    "    data_pointx = torch.tensor(tox, dtype=torch.float32)\n",
    "    recon_batch, mu, logvar = vae(data_pointx)\n",
    "#     print(recon_batch.shape)\n",
    "    data_points = data_points\n",
    "#     data_points = torch.tensor(data_points, dtype=torch.float32)\n",
    "#     print(data_points.shape,recon_batch.shape)\n",
    "    for dj in range(len(data_pointx)):\n",
    "        reconstruction_error = torch.norm(data_pointx[dj] - recon_batch[dj]).item()\n",
    "#         print(reconstruction_error)\n",
    "        errors.append(reconstruction_error)\n",
    "        anomalous_vae.append(index[dj])\n",
    "\n",
    "x = np.array(errors)\n",
    "y = np.array(anomalous_vae)\n",
    "\n",
    "np.save('indexes_cvae2_H3D_REAL_REAL_TRAIN.npy',y)\n",
    "np.save('recons_errors_cvae2_H3D_REAL_VAE_TRAIN.npy',x)\n",
    "torch.save(vae, './cvae2_model_H3D_TRAIN')\n"
   ]
  },
  {
   "cell_type": "code",
   "execution_count": null,
   "metadata": {},
   "outputs": [],
   "source": []
  }
 ],
 "metadata": {
  "kernelspec": {
   "display_name": "Python 3",
   "language": "python",
   "name": "python3"
  },
  "language_info": {
   "codemirror_mode": {
    "name": "ipython",
    "version": 3
   },
   "file_extension": ".py",
   "mimetype": "text/x-python",
   "name": "python",
   "nbconvert_exporter": "python",
   "pygments_lexer": "ipython3",
   "version": "3.6.9"
  }
 },
 "nbformat": 4,
 "nbformat_minor": 4
}
